{
 "cells": [
  {
   "cell_type": "markdown",
   "metadata": {},
   "source": [
    "# Programming assignment\n",
    "\n",
    "In this programming assignment you will get to practice what you learned about time series modelling. You will need to do more steps on your own in comparison to the Labs, but you have all the necessary tools to complete this assignment successfully. \n",
    "\n",
    "Have a look at previous Lab notebooks to remind yourself of how you can perform certain tasks. You are encouraged to work in groups, but do not copy solutions without understanding what you are doing. There will be questions in the final exam related to this assignment. Since you are not allowed to bring your solution, the questions will be conceptual and geared towards the understanding of the modelling process. You **do not need to remember by heart the Python code** you will produce, but you do need to **understand all the steps**. I hardly encourage you to check your solution one day before the final exam, to make sure that you will remember choices you might make in the modelling process and you should be able to justify these choices.\n",
    "\n",
    "The steps you are advice to do are given in bullet points\n",
    "\n",
    "This assignment is supposed to be fun and help you to independently build a model.\n",
    "\n",
    "Good luck!"
   ]
  },
  {
   "cell_type": "markdown",
   "metadata": {},
   "source": [
    "## Binder\n",
    "\n",
    "If you decide to work out the solution in Binder, please **remember to download the notebook** before leaving the environment, as the next time you open it, your progress will be lost. You can always open your saved notebook later and continue to work on it, if you don't solve it all in one go."
   ]
  },
  {
   "cell_type": "markdown",
   "metadata": {},
   "source": [
    "## Data mining steps\n",
    "\n",
    "In the very first lecture you learned standard data mining steps. Altough we didn't mention it during the Labs, you did follow most of them to build the models. For this assignment, let's try to be mindfull about each step.\n",
    "\n",
    "\n",
    "### Step 1: Problem understanding\n",
    "\n",
    "The very first thing you need to do is to understand your problem. You will get a question and afterwards you need to ask yourself whether you can answer it with data mining. So let's start with the problem for this assignment:\n",
    "\n",
    "> Australian wine has been an upcoming trend for years. An Australian wine producer is looking into optimizing its operations. As a first step they would like to understand their sales patterns and be able to predict future monthly sales.\n",
    "\n",
    "If you get an assignment, you should first ask yourself whether you can break it into specific questions. In this case, we could say that we want to investigate the following:\n",
    "\n",
    "1. Sales patterns over the past years\n",
    "2. Sales prediction for future months\n",
    "\n",
    "You have now specific questions you can further research. "
   ]
  },
  {
   "cell_type": "markdown",
   "metadata": {},
   "source": [
    "### Step 2: Data acquisition\n",
    "\n",
    "Now that you have questions, you should ask yourself which data you need to be able to answer them. The common next step, would be to ask the wine producer whether they have data about past sales or any other general data that can be related to the wine sales. In this case, the wine producer says that they have only past sales data. So you can get started and see what you can do with it. Perhaps that data is already enough for the problem in hand.\n",
    "\n",
    "You got the data and now you can start!"
   ]
  },
  {
   "cell_type": "markdown",
   "metadata": {},
   "source": [
    "#### Loading libraries\n",
    "\n",
    "The very first step in writting Python code is to think which libraries you will need for the task you want to perform. Up to now, you did not have to load any libraries, but you should be able to do that independently. Below I will load a few libraries you might need, but some others are still missing. So try to think what else could be useful. You might also realise later that you need something extra, but no worries you can also load libraries as you go. Now:\n",
    "\n",
    "- Which extra libraries/functions you might need?"
   ]
  },
  {
   "cell_type": "code",
   "execution_count": null,
   "metadata": {
    "execution": {
     "iopub.execute_input": "2021-05-27T20:03:37.707468Z",
     "iopub.status.busy": "2021-05-27T20:03:37.707020Z",
     "iopub.status.idle": "2021-05-27T20:03:38.634422Z",
     "shell.execute_reply": "2021-05-27T20:03:38.633973Z"
    }
   },
   "outputs": [],
   "source": [
    "import warnings\n",
    "\n",
    "import numpy as np\n",
    "import statsmodels.formula.api as sm\n",
    "\n",
    "from plot_utilities import graph_layout\n",
    "from plot_utilities import single_graph_layout\n",
    "\n",
    "%matplotlib inline\n",
    "warnings.filterwarnings('ignore')"
   ]
  },
  {
   "cell_type": "markdown",
   "metadata": {},
   "source": [
    "#### Loading data\n",
    "\n",
    "You got the data as a csv file. Now:\n",
    "\n",
    "- How can you read the data?"
   ]
  },
  {
   "cell_type": "code",
   "execution_count": null,
   "metadata": {},
   "outputs": [],
   "source": []
  },
  {
   "cell_type": "markdown",
   "metadata": {},
   "source": [
    "### Step 3: Explore, clean and pre-process data\n",
    "\n",
    "You have the data, so the next thing you can do is to explore it and decide whether you need any cleaning or pre-processing steps, before you can use it with your data mining task. Things you can check:\n",
    "\n",
    "- What is the data dimension?\n",
    "- Do you understand all the variables?\n",
    "- What are the variables types? Are there NaN values?\n",
    "- Are there outliers?\n",
    "- Do you need to do any data transformation?\n",
    "- Etc...\n",
    "\n",
    "In this step you can also get a start with answering the first question: what are the sales patterns?\n",
    "\n",
    "- Plot the data and try to visually describe the sales patterns."
   ]
  },
  {
   "cell_type": "code",
   "execution_count": null,
   "metadata": {},
   "outputs": [],
   "source": []
  },
  {
   "cell_type": "code",
   "execution_count": null,
   "metadata": {},
   "outputs": [],
   "source": []
  },
  {
   "cell_type": "code",
   "execution_count": null,
   "metadata": {},
   "outputs": [],
   "source": []
  },
  {
   "cell_type": "code",
   "execution_count": null,
   "metadata": {},
   "outputs": [],
   "source": []
  },
  {
   "cell_type": "code",
   "execution_count": null,
   "metadata": {},
   "outputs": [],
   "source": []
  },
  {
   "cell_type": "code",
   "execution_count": null,
   "metadata": {},
   "outputs": [],
   "source": []
  },
  {
   "cell_type": "markdown",
   "metadata": {},
   "source": [
    "You probably realised that the data is quite clean and do not need much preparation. How nice! So you can go on..."
   ]
  },
  {
   "cell_type": "markdown",
   "metadata": {},
   "source": [
    "### Step 4: Reduce data dimension\n",
    "\n",
    "In this particular case, you don't have too much data, so dimension reduction is perhaps not necessary. All you have are the sales per month per wine type for over 15 years. But what can we do? Perform the analysis per wine type? Meaning 6 different analysis? Sum up the sales for all the wines and check the overall behaviour? You can actually do all of that. But to bring focus to this assignment, let's say that the wine producer is particular interested on the dry white wine. So let's keep just this information: \n",
    "\n",
    "- Organize the dry white wine data into a series"
   ]
  },
  {
   "cell_type": "code",
   "execution_count": null,
   "metadata": {},
   "outputs": [],
   "source": []
  },
  {
   "cell_type": "markdown",
   "metadata": {},
   "source": [
    "### Step 5: Determine data mining task\n",
    "\n",
    "Now which data mining task can be usefull here? We see that we have only 3 variables: time, wine type and sales. But since we are going to look at only dry white wine, we actually only have time and sales. A clear winner is therefore **time series modelling**, which we can use to answer both questions: sales patterns and forecast of future sales. Since we are going to use time series modelling, an extra preparation step can be useful:\n",
    "\n",
    "- Add constant and trend auxiliary variables and a month categorical variable"
   ]
  },
  {
   "cell_type": "code",
   "execution_count": null,
   "metadata": {},
   "outputs": [],
   "source": []
  },
  {
   "cell_type": "markdown",
   "metadata": {},
   "source": [
    "### Step 6: Data partition\n",
    "\n",
    "Once you know which type of model you will use, you can partition your data into train/test sets. So now:\n",
    "\n",
    "- Create two dataframes, one for the training set and another for the validation set"
   ]
  },
  {
   "cell_type": "code",
   "execution_count": null,
   "metadata": {
    "execution": {
     "iopub.execute_input": "2021-05-27T20:03:38.900892Z",
     "iopub.status.busy": "2021-05-27T20:03:38.900410Z",
     "iopub.status.idle": "2021-05-27T20:03:38.903198Z",
     "shell.execute_reply": "2021-05-27T20:03:38.902832Z"
    }
   },
   "outputs": [],
   "source": []
  },
  {
   "cell_type": "markdown",
   "metadata": {},
   "source": [
    "### Step 7: Choose technique\n",
    "\n",
    "We already decided that we are going to use time series modelling. In order to make things simpler, I advise you to choose the same technique as in the time series forecasting Lab session, i.e. to use a regression-based method and use the `ols` (ordinary least squares) function of the `statsmodels` library to fit the linear regression. But if you want to be adventurous, you can of course decide to try out a different method.\n",
    "\n",
    "- If you didn't do it yet, make sure you load the required libraries"
   ]
  },
  {
   "cell_type": "code",
   "execution_count": null,
   "metadata": {},
   "outputs": [],
   "source": []
  },
  {
   "cell_type": "markdown",
   "metadata": {},
   "source": [
    "### Step 8: Apply algorithms\n",
    "\n",
    "We decided which algorithm we want to use, now we can apply it. If you decided to take up my advice you can proceed as follows.\n",
    "\n",
    "- Fit for the trend: in the case that you see a trend, which mathematical equation is a good model for the trend component?\n",
    "- Fit for the seasonality: in the case that you observe seasonality, how can you integrate it?\n",
    "- Fit different models (e.g. different trends) and check later on which one leads to a better performance"
   ]
  },
  {
   "cell_type": "code",
   "execution_count": null,
   "metadata": {},
   "outputs": [],
   "source": []
  },
  {
   "cell_type": "code",
   "execution_count": null,
   "metadata": {},
   "outputs": [],
   "source": []
  },
  {
   "cell_type": "markdown",
   "metadata": {},
   "source": [
    "### Step 9: Interpret results\n",
    "\n",
    "Now that you have one or more models, it is time to check whether the models are performing well. Things you can do:\n",
    "\n",
    "- Check visually whether the predictions on train and test sets can capture all the patterns on the data\n",
    "- Check the residuals on the training and test sets\n",
    "- Choose one or more performance metrics (e.g. RMSE) and check them on the training and test sets. Are they similar? Is overfitting a problem here? This will also give you an estimation for the model performance\n",
    "- If you built more than one model, use the interpretation from above to decide which one you want to choose as your final model"
   ]
  },
  {
   "cell_type": "code",
   "execution_count": null,
   "metadata": {
    "execution": {
     "iopub.execute_input": "2021-05-27T20:03:40.916498Z",
     "iopub.status.busy": "2021-05-27T20:03:40.916051Z",
     "iopub.status.idle": "2021-05-27T20:03:41.503300Z",
     "shell.execute_reply": "2021-05-27T20:03:41.502909Z"
    }
   },
   "outputs": [],
   "source": []
  },
  {
   "cell_type": "code",
   "execution_count": null,
   "metadata": {},
   "outputs": [],
   "source": []
  },
  {
   "cell_type": "code",
   "execution_count": null,
   "metadata": {},
   "outputs": [],
   "source": []
  },
  {
   "cell_type": "code",
   "execution_count": null,
   "metadata": {},
   "outputs": [],
   "source": []
  },
  {
   "cell_type": "markdown",
   "metadata": {},
   "source": [
    "### Step 10: Deploy model\n",
    "\n",
    "Now you have a final model, so let's use it to forecast future sales. I want the following:\n",
    "\n",
    "- What is the forecast for the next year (i.e. August 1995 until July 1996)?\n",
    "- Do you need extra steps before you can forecast the future?"
   ]
  },
  {
   "cell_type": "code",
   "execution_count": null,
   "metadata": {},
   "outputs": [],
   "source": []
  },
  {
   "cell_type": "code",
   "execution_count": null,
   "metadata": {},
   "outputs": [],
   "source": [
    "# Here I am going to help you out with part of it, you can create a dataframe with the new data, \n",
    "# i.e. the extra 12 months for which we don't know the sales\n",
    "# Here I'm assuming the time series is stored in a dataframe called df_ts\n",
    "last_date = max(df_ts.index) \n",
    "df_new = pd.DataFrame({\n",
    "    'const': np.repeat(1, 12),\n",
    "    # Here I'm assuming the test set is called df_test and contains a trend column\n",
    "    'trend': np.arange(1, 13) + max(df_test.trend), \n",
    "    'Date': [last_date + pd.DateOffset(months=i) for i in range(1, 13)]\n",
    "})\n",
    "df_new['Month'] = df_new['Date'].apply(lambda x: x.month)"
   ]
  },
  {
   "cell_type": "code",
   "execution_count": null,
   "metadata": {},
   "outputs": [],
   "source": []
  },
  {
   "cell_type": "code",
   "execution_count": null,
   "metadata": {},
   "outputs": [],
   "source": []
  },
  {
   "cell_type": "markdown",
   "metadata": {},
   "source": [
    "## Conclusions\n",
    "\n",
    "You were hopefully able to complete all the steps! Now, can you answer the initial two questions with this analysis?\n",
    "\n",
    "1. Sales patterns over the past years: can you explain trend and seasonality? If there is any. Including a meaning for it?\n",
    " \n",
    "2. Sales prediction for future months: were you able to forecast the future?"
   ]
  },
  {
   "cell_type": "code",
   "execution_count": null,
   "metadata": {},
   "outputs": [],
   "source": []
  }
 ],
 "metadata": {
  "kernelspec": {
   "display_name": "labs",
   "language": "python",
   "name": "labs"
  },
  "language_info": {
   "codemirror_mode": {
    "name": "ipython",
    "version": 3
   },
   "file_extension": ".py",
   "mimetype": "text/x-python",
   "name": "python",
   "nbconvert_exporter": "python",
   "pygments_lexer": "ipython3",
   "version": "3.9.9"
  }
 },
 "nbformat": 4,
 "nbformat_minor": 2
}
