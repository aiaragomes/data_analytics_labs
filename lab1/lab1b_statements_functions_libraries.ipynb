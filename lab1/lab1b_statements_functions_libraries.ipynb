{
 "cells": [
  {
   "cell_type": "markdown",
   "metadata": {
    "id": "1ilb9QQhIphh"
   },
   "source": [
    "# Programming statements, functions & libraries\n",
    "\n",
    "Now that we know about different data types in Python, how to declare variables, and perform some basic operations. We will move to the next step that will help you with a solid programming base, which includes different types of programming statements and functions. Afterwards, we will see how to use Python libraries.\n",
    "\n",
    "\n",
    "## If/else\n",
    "\n",
    "Conditional `if/else` statements is one of the basic statements of programming languages, which are used to define some actions to be carried out by a computer. A conditional statement is used to handle decisions based on a set of conditions that generates True/False outputs. Let's now think of a practical example. If it's Wednesday, I'll go to the University, but if not, I'll stay home. To do this in Python, we use a combination of boolean variables, which evaluate to either True or False, and if statements, that control branching based on boolean values."
   ]
  },
  {
   "cell_type": "code",
   "execution_count": null,
   "metadata": {
    "colab": {
     "base_uri": "https://localhost:8080/"
    },
    "executionInfo": {
     "elapsed": 665,
     "status": "ok",
     "timestamp": 1618436739908,
     "user": {
      "displayName": "Visara Urovi",
      "photoUrl": "https://lh3.googleusercontent.com/a-/AOh14GjIw9v4kP-qtBg4fO0SKj3ilYQbBKNgj_Dw1NLeFg=s64",
      "userId": "10715840550088536341"
     },
     "user_tz": -120
    },
    "id": "U9aQ8Tg0iKVu",
    "outputId": "9626958a-60a5-4e59-ad0d-9241894a666e"
   },
   "outputs": [],
   "source": [
    "day = \"Wednesday\"\n",
    "if day == \"Wednesday\":\n",
    "    print(\"Go to University\")\n",
    "else:\n",
    "    print(\"Stay home\")"
   ]
  },
  {
   "cell_type": "markdown",
   "metadata": {
    "id": "vRgfs0ZLiv3O"
   },
   "source": [
    "Let's take the snippet apart to see what happened. First, note the statement:"
   ]
  },
  {
   "cell_type": "code",
   "execution_count": null,
   "metadata": {
    "colab": {
     "base_uri": "https://localhost:8080/"
    },
    "executionInfo": {
     "elapsed": 709,
     "status": "ok",
     "timestamp": 1618436743369,
     "user": {
      "displayName": "Visara Urovi",
      "photoUrl": "https://lh3.googleusercontent.com/a-/AOh14GjIw9v4kP-qtBg4fO0SKj3ilYQbBKNgj_Dw1NLeFg=s64",
      "userId": "10715840550088536341"
     },
     "user_tz": -120
    },
    "id": "AyslLgcIjBt2",
    "outputId": "5fd4c46e-2b07-48aa-cee9-1decb8e0ffcf"
   },
   "outputs": [],
   "source": [
    "day == \"Wednesday\""
   ]
  },
  {
   "cell_type": "markdown",
   "metadata": {
    "id": "7ujiqeKUjGo6"
   },
   "source": [
    "If we evaluate it by itself, as we just did, we see that it returns a boolean value: True. The \"==\" operator performs equality testing. If the two items are equal, it returns True, otherwise it returns False. In this case, it is comparing two variables, the string \"Wednesday\", and whatever is stored in the variable \"day\", which, in this case, is also the string \"Wednesday\". Since the two strings are equal, the truth test has the true value.\n",
    "\n",
    "The if statement that contains the truth test is followed by a **code block** (a colon followed by an **indented** block of code). If the boolean is true, it executes the code in that block, which is what happened in that example, and that is why we see \"Go to University\".\n",
    "\n",
    "The first block of code is followed by an else statement, which is executed if nothing else in the above if statement is true.\n",
    "\n",
    "Now copy the conditional statement above to the next cell, change the variable day to something else and see what happens:"
   ]
  },
  {
   "cell_type": "code",
   "execution_count": null,
   "metadata": {},
   "outputs": [],
   "source": [
    "# TODO: copy code snippet from the first cell, change the variable `day` to something else and see what happens\n"
   ]
  },
  {
   "cell_type": "markdown",
   "metadata": {
    "id": "LgAcHswSltKA"
   },
   "source": [
    "If statements can have elif parts (\"else if\"), in addition to if/else parts. For example:"
   ]
  },
  {
   "cell_type": "code",
   "execution_count": null,
   "metadata": {
    "colab": {
     "base_uri": "https://localhost:8080/"
    },
    "executionInfo": {
     "elapsed": 525,
     "status": "ok",
     "timestamp": 1617885003803,
     "user": {
      "displayName": "Visara Urovi",
      "photoUrl": "https://lh3.googleusercontent.com/a-/AOh14GjIw9v4kP-qtBg4fO0SKj3ilYQbBKNgj_Dw1NLeFg=s64",
      "userId": "10715840550088536341"
     },
     "user_tz": -120
    },
    "id": "NQaKowE1luJr",
    "outputId": "131a2576-2fa2-4875-b9c2-95a07d473116"
   },
   "outputs": [],
   "source": [
    "if day == \"Wednesday\":\n",
    "    print(\"Go to University\")\n",
    "elif day == \"Monday\":\n",
    "    print(\"Join Zoom session\")\n",
    "else:\n",
    "    print(\"Relax\")"
   ]
  },
  {
   "cell_type": "markdown",
   "metadata": {},
   "source": [
    "## While loops\n",
    "\n",
    "While loops are a control flow statement, where a block of code will continously be executed until a certain condition is not matched anymore. That condition is something to be evaluated as True/False just like with the if/else statements. Let's think of a practical example to understand what it does. Say that you go for a 5k run and you will get notified at every km until you reach your 5 km target: "
   ]
  },
  {
   "cell_type": "code",
   "execution_count": null,
   "metadata": {},
   "outputs": [],
   "source": [
    "km = 0\n",
    "while km < 5:\n",
    "    km += 1\n",
    "    print('You are at km', km)"
   ]
  },
  {
   "cell_type": "markdown",
   "metadata": {},
   "source": [
    "You see that at every iteration the condition km < 5 is checked, and if True the code block inside the while statement gets executed, which basically sums up 1 to itself and prints a message saying at which km you are. \n",
    "\n",
    "Now say that you want to get a motivation message when you reach 3 km, can you do it?"
   ]
  },
  {
   "cell_type": "code",
   "execution_count": null,
   "metadata": {},
   "outputs": [],
   "source": [
    "# TODO: adapt the code from above to print a motivation message when you hit 3 km\n",
    "# TIP: you can combine while loops with if/else statements\n"
   ]
  },
  {
   "cell_type": "markdown",
   "metadata": {
    "id": "UONRAlQ9h6uw"
   },
   "source": [
    "## For loops\n",
    "\n",
    "For loops are also a control flow statement that executes the same block of code at each iteration. They behave very similarly to while loops. Now let's have a look at how to use them. Say that you want to calculate the square of all odd numbers up to 10. You can do the following:"
   ]
  },
  {
   "cell_type": "code",
   "execution_count": null,
   "metadata": {
    "id": "H3iBMNCO-L-J"
   },
   "outputs": [],
   "source": [
    "for i in range(1, 10, 2):\n",
    "    print(\"The square of\", i,\"is\", i*i)"
   ]
  },
  {
   "cell_type": "markdown",
   "metadata": {},
   "source": [
    "Here you can see that we used the `range` function to define the begining and end of the loop and the size of the step between iterations. \n",
    "\n",
    "Now let's do an exercise:"
   ]
  },
  {
   "cell_type": "code",
   "execution_count": null,
   "metadata": {
    "cellView": "form",
    "colab": {
     "base_uri": "https://localhost:8080/",
     "height": 130
    },
    "executionInfo": {
     "elapsed": 201,
     "status": "error",
     "timestamp": 1626851437624,
     "user": {
      "displayName": "Sil Aarts",
      "photoUrl": "",
      "userId": "15954943278796641985"
     },
     "user_tz": -120
    },
    "id": "jbjGyo6E_Vat",
    "outputId": "210f06c4-e588-417a-e182-57d86dc96400"
   },
   "outputs": [],
   "source": [
    "# TODO: loop through numbers between 1-20 adding them up and proving the sum at the end \n"
   ]
  },
  {
   "cell_type": "markdown",
   "metadata": {},
   "source": [
    "We can use for loops also to iterate through lists:"
   ]
  },
  {
   "cell_type": "code",
   "execution_count": null,
   "metadata": {
    "id": "YrrSNc_1iZ8r"
   },
   "outputs": [],
   "source": [
    "days_of_the_week = [\"Monday\", \"Tuesday\", \"Wednesday\", \"Thursday\", \"Friday\", \"Saturday\", \"Sunday\"]\n",
    "\n",
    "for day in days_of_the_week:\n",
    "    statement = \"Today is \" + day\n",
    "    print(statement)"
   ]
  },
  {
   "cell_type": "markdown",
   "metadata": {},
   "source": [
    "See that here you didn't need to specify anything about your iterations, Python new that it had to loop through every element of the list until it reaches the end. \n",
    "\n",
    "Now, a curious thing about strings is that they are sequential, so you can loop through a string to get each character of it:"
   ]
  },
  {
   "cell_type": "code",
   "execution_count": null,
   "metadata": {
    "colab": {
     "base_uri": "https://localhost:8080/",
     "height": 121
    },
    "id": "fzB10cOvGku-",
    "outputId": "8b65dc0a-15ec-4da9-f1bf-8002b19f5264"
   },
   "outputs": [],
   "source": [
    "for letter in \"Sunday\":\n",
    "    print(letter)"
   ]
  },
  {
   "cell_type": "markdown",
   "metadata": {},
   "source": [
    "For loops can also be combined with if/else statements and that's when things can start to become very interesting:"
   ]
  },
  {
   "cell_type": "code",
   "execution_count": null,
   "metadata": {},
   "outputs": [],
   "source": [
    "for day in days_of_the_week:\n",
    "    statement = \"Today is \" + day\n",
    "    print (statement)\n",
    "    if day == \"Sunday\":\n",
    "        print (\"   Sleep in\")\n",
    "    elif day == \"Saturday\":\n",
    "        print (\"   Do chores\")\n",
    "    else:\n",
    "        print (\"   Go to work\")"
   ]
  },
  {
   "cell_type": "code",
   "execution_count": null,
   "metadata": {},
   "outputs": [],
   "source": [
    "# TODO: create a string containing the following weather conditions (rainy, sunny, cloudy, you can also add more). \n",
    "# Create a weather value that takes one of the weather conditions and decides whether to bring or not an umbrella.\n"
   ]
  },
  {
   "cell_type": "markdown",
   "metadata": {
    "id": "uoyTfe6rokbW"
   },
   "source": [
    "## Functions\n",
    "\n",
    "A function is a block of organized and reusable code that can make your scripts more effective, easier to read, and simpler to manage. You can think of functions as little self-contained programs that can perform a specific task which you can use repeatedly in your code.\n",
    "\n",
    "During the lab we have already used some functions such as `print`, which is actually a built-in function in Python.\n",
    "\n",
    "To write your own function, you have to use the `def` statement in Python. Let’s define our first function called celsiusToFahr:"
   ]
  },
  {
   "cell_type": "code",
   "execution_count": null,
   "metadata": {
    "id": "FZZ8skYHo2pZ"
   },
   "outputs": [],
   "source": [
    "def celsiusToFahr(tempCelsius):\n",
    "    return 9/5 * tempCelsius + 32"
   ]
  },
  {
   "cell_type": "markdown",
   "metadata": {
    "id": "h1zlfCKWo6OF"
   },
   "source": [
    "The function definition opens with the keyword `def` followed by the name of the function and a list of parameters in parentheses. The body of the function — the statements that are executed when it runs — is indented below the definition line.\n",
    "\n",
    "Now let’s try using our function. Calling our self-defined function is no different from calling any other function such as `print()`."
   ]
  },
  {
   "cell_type": "code",
   "execution_count": null,
   "metadata": {
    "id": "P_kSyxfmo-Dw"
   },
   "outputs": [],
   "source": [
    "freezingPoint =  celsiusToFahr(0)\n",
    "\n",
    "print('The freezing point of water in Fahrenheit is:', freezingPoint)\n",
    "print('The boiling point of water in Fahrenheit is:', celsiusToFahr(100))"
   ]
  },
  {
   "cell_type": "code",
   "execution_count": null,
   "metadata": {
    "id": "5epNHO6epkQo"
   },
   "outputs": [],
   "source": [
    "def kelvinsToCelsius(tempKelvins):\n",
    "    return tempKelvins - 273.15"
   ]
  },
  {
   "cell_type": "markdown",
   "metadata": {
    "id": "aDA3bDXgpKx7"
   },
   "source": [
    "And let’s use it in the same way as the earlier one:"
   ]
  },
  {
   "cell_type": "code",
   "execution_count": null,
   "metadata": {
    "colab": {
     "base_uri": "https://localhost:8080/"
    },
    "executionInfo": {
     "elapsed": 663,
     "status": "ok",
     "timestamp": 1618436952238,
     "user": {
      "displayName": "Visara Urovi",
      "photoUrl": "https://lh3.googleusercontent.com/a-/AOh14GjIw9v4kP-qtBg4fO0SKj3ilYQbBKNgj_Dw1NLeFg=s64",
      "userId": "10715840550088536341"
     },
     "user_tz": -120
    },
    "id": "ceiaiTPuprVh",
    "outputId": "99f5d55d-19ed-45c7-9968-fff5096aba0c"
   },
   "outputs": [],
   "source": [
    "absoluteZero = kelvinsToCelsius(tempKelvins=0)\n",
    "\n",
    "print('Absolute zero in Celsius is:', absoluteZero)"
   ]
  },
  {
   "cell_type": "markdown",
   "metadata": {
    "id": "dSd--5ZTpw82"
   },
   "source": [
    "What about converting Kelvins to Fahrenheit? We could write out a new formula for it, but we don’t need to. Instead, we can do the conversion using the two functions we have already created and calling those from the function we are now creating:"
   ]
  },
  {
   "cell_type": "code",
   "execution_count": null,
   "metadata": {
    "id": "ebdBtf-HpyId"
   },
   "outputs": [],
   "source": [
    "def kelvinsToFahrenheit(tempKelvins):\n",
    "    '''This function converts kelvin to fahrenheit'''\n",
    "    tempCelsius = kelvinsToCelsius(tempKelvins)\n",
    "    tempFahr = celsiusToFahr(tempCelsius)\n",
    "    return tempFahr"
   ]
  },
  {
   "cell_type": "markdown",
   "metadata": {
    "id": "XSRt3G1gp7Q8"
   },
   "source": [
    "Now let’s use the function:"
   ]
  },
  {
   "cell_type": "code",
   "execution_count": null,
   "metadata": {
    "colab": {
     "base_uri": "https://localhost:8080/"
    },
    "executionInfo": {
     "elapsed": 511,
     "status": "ok",
     "timestamp": 1618436959336,
     "user": {
      "displayName": "Visara Urovi",
      "photoUrl": "https://lh3.googleusercontent.com/a-/AOh14GjIw9v4kP-qtBg4fO0SKj3ilYQbBKNgj_Dw1NLeFg=s64",
      "userId": "10715840550088536341"
     },
     "user_tz": -120
    },
    "id": "NO0ENdI1p-Uv",
    "outputId": "61a2c027-3615-4318-f392-79b75957c23b"
   },
   "outputs": [],
   "source": [
    "absoluteZeroF = kelvinsToFahrenheit(tempKelvins=0)\n",
    "print('Absolute zero in Fahrenheit is:', absoluteZeroF)"
   ]
  },
  {
   "cell_type": "markdown",
   "metadata": {
    "id": "Xs10xnOOqE1D"
   },
   "source": [
    "We have introduced several new features here. First, note that the function itself is defined as a code block (a colon followed by an indented block). This is the standard way that Python delimits things. Next, note that the first line of the function is a single string. This is called a docstring, and is a special kind of comment that is often available to people using the function through the python command line:"
   ]
  },
  {
   "cell_type": "code",
   "execution_count": null,
   "metadata": {
    "colab": {
     "base_uri": "https://localhost:8080/"
    },
    "executionInfo": {
     "elapsed": 538,
     "status": "ok",
     "timestamp": 1618436964600,
     "user": {
      "displayName": "Visara Urovi",
      "photoUrl": "https://lh3.googleusercontent.com/a-/AOh14GjIw9v4kP-qtBg4fO0SKj3ilYQbBKNgj_Dw1NLeFg=s64",
      "userId": "10715840550088536341"
     },
     "user_tz": -120
    },
    "id": "m2lyAw6sqFjs",
    "outputId": "fb4c191d-7afc-4d91-c207-2699b3034ee2"
   },
   "outputs": [],
   "source": [
    "help(kelvinsToFahrenheit)"
   ]
  },
  {
   "cell_type": "markdown",
   "metadata": {
    "id": "L0eHKhjppAy8"
   },
   "source": [
    "If you define a docstring for all of your functions, it makes it easier for other people to use them, since they can get help on the arguments and return values of the function."
   ]
  },
  {
   "cell_type": "code",
   "execution_count": null,
   "metadata": {},
   "outputs": [],
   "source": [
    "# TODO: create a function that multiplies two numbers and check the output for a few cases\n"
   ]
  },
  {
   "cell_type": "markdown",
   "metadata": {
    "id": "h0Wz7mAOJ_30"
   },
   "source": [
    "## Libraries\n",
    "\n",
    "Python has a huge number of libraries included with the distribution. \n",
    "\n",
    "- Most of these libraries are acessible if you import them by using their name. \n",
    "- For example, there is a math module containing many useful functions. \n",
    "- To access, say, the square root function, you first import the function sqrt, then call it by giving a number as input.\n",
    "\n",
    "Then, how can we calculate square roots? Let's see:"
   ]
  },
  {
   "cell_type": "code",
   "execution_count": null,
   "metadata": {
    "executionInfo": {
     "elapsed": 19,
     "status": "ok",
     "timestamp": 1626848504347,
     "user": {
      "displayName": "Sil Aarts",
      "photoUrl": "",
      "userId": "15954943278796641985"
     },
     "user_tz": -120
    },
    "id": "mHLgM1U4Kb56"
   },
   "outputs": [],
   "source": [
    "from math import sqrt"
   ]
  },
  {
   "cell_type": "code",
   "execution_count": null,
   "metadata": {
    "colab": {
     "base_uri": "https://localhost:8080/"
    },
    "executionInfo": {
     "elapsed": 18,
     "status": "ok",
     "timestamp": 1626848504347,
     "user": {
      "displayName": "Sil Aarts",
      "photoUrl": "",
      "userId": "15954943278796641985"
     },
     "user_tz": -120
    },
    "id": "fUIS7vWLKZY6",
    "outputId": "e8c9f2da-da6f-4d15-a1e6-a7cc26e3b3e6"
   },
   "outputs": [],
   "source": [
    "sqrt(81)"
   ]
  },
  {
   "cell_type": "markdown",
   "metadata": {
    "id": "xkwJrjIaLxCP"
   },
   "source": [
    "Or you can also import the whole math library:"
   ]
  },
  {
   "cell_type": "code",
   "execution_count": null,
   "metadata": {
    "colab": {
     "base_uri": "https://localhost:8080/"
    },
    "executionInfo": {
     "elapsed": 16,
     "status": "ok",
     "timestamp": 1626848504348,
     "user": {
      "displayName": "Sil Aarts",
      "photoUrl": "",
      "userId": "15954943278796641985"
     },
     "user_tz": -120
    },
    "id": "jO53YlEgL9GT",
    "outputId": "676b5a45-10df-467b-e678-a6207eefff9b"
   },
   "outputs": [],
   "source": [
    "import math\n",
    "math.sqrt(81)"
   ]
  },
  {
   "cell_type": "markdown",
   "metadata": {
    "id": "f9j3vLIruTCw"
   },
   "source": [
    "Now you know how to import and use libraries, so let's have a look at one of the most important Python libraries. The next session is optional. You can do at home or during the lab if you were very fast with the other exercises.\n",
    "\n",
    "\n",
    "## Optional: Numpy\n",
    "\n",
    "Numpy is a library that adds support for large, multi-dimensional arrays and matrices, along with a large collection of high-level mathematical functions to operate on these arrays. Let's get started by loading it:"
   ]
  },
  {
   "cell_type": "code",
   "execution_count": null,
   "metadata": {
    "id": "hpJAWDOXuZJb"
   },
   "outputs": [],
   "source": [
    "import numpy as np"
   ]
  },
  {
   "cell_type": "markdown",
   "metadata": {
    "id": "NUJYqaquuiQ2"
   },
   "source": [
    "### Creating a Vector\n",
    "\n",
    "Here we use Numpy to create a 1-D array which we call a vector:"
   ]
  },
  {
   "cell_type": "code",
   "execution_count": null,
   "metadata": {
    "colab": {
     "base_uri": "https://localhost:8080/"
    },
    "executionInfo": {
     "elapsed": 903,
     "status": "ok",
     "timestamp": 1617886299107,
     "user": {
      "displayName": "Visara Urovi",
      "photoUrl": "https://lh3.googleusercontent.com/a-/AOh14GjIw9v4kP-qtBg4fO0SKj3ilYQbBKNgj_Dw1NLeFg=s64",
      "userId": "10715840550088536341"
     },
     "user_tz": -120
    },
    "id": "iZWD0ddauxJb",
    "outputId": "2144aba6-6046-4491-afb2-62782cef4934"
   },
   "outputs": [],
   "source": [
    "vector = np.array([1,2,3])\n",
    "vector"
   ]
  },
  {
   "cell_type": "markdown",
   "metadata": {
    "id": "8YsOwOFFux_O"
   },
   "source": [
    "### Creating a Matrix\n",
    "\n",
    "We can create a 2-D array with Numpy and call it a matrix. It contains 2 rows and 3 columns:"
   ]
  },
  {
   "cell_type": "code",
   "execution_count": null,
   "metadata": {
    "colab": {
     "base_uri": "https://localhost:8080/"
    },
    "executionInfo": {
     "elapsed": 957,
     "status": "ok",
     "timestamp": 1617886316275,
     "user": {
      "displayName": "Visara Urovi",
      "photoUrl": "https://lh3.googleusercontent.com/a-/AOh14GjIw9v4kP-qtBg4fO0SKj3ilYQbBKNgj_Dw1NLeFg=s64",
      "userId": "10715840550088536341"
     },
     "user_tz": -120
    },
    "id": "-nj7bzE7vBUB",
    "outputId": "cb729877-6710-47c6-ad8e-6710cfeadc89"
   },
   "outputs": [],
   "source": [
    "matrix = np.array([[1,2,3],[4,5,6]])\n",
    "print(matrix)"
   ]
  },
  {
   "cell_type": "markdown",
   "metadata": {
    "id": "_JLJ0F5OvHKK"
   },
   "source": [
    "### Selecting Elements\n",
    "\n",
    "Let's see how to select one or more elements in a vector or matrix.\n",
    "\n",
    "Select 3rd element of vector:"
   ]
  },
  {
   "cell_type": "code",
   "execution_count": null,
   "metadata": {
    "colab": {
     "base_uri": "https://localhost:8080/"
    },
    "executionInfo": {
     "elapsed": 539,
     "status": "ok",
     "timestamp": 1617886333782,
     "user": {
      "displayName": "Visara Urovi",
      "photoUrl": "https://lh3.googleusercontent.com/a-/AOh14GjIw9v4kP-qtBg4fO0SKj3ilYQbBKNgj_Dw1NLeFg=s64",
      "userId": "10715840550088536341"
     },
     "user_tz": -120
    },
    "id": "oSTimos5vNml",
    "outputId": "1ac2068d-a7da-4fc0-942f-b0089b455e9d"
   },
   "outputs": [],
   "source": [
    "print(vector[2])"
   ]
  },
  {
   "cell_type": "markdown",
   "metadata": {
    "id": "1sre3YxbvYSH"
   },
   "source": [
    "Select 2nd row and 2nd column of matrix:"
   ]
  },
  {
   "cell_type": "code",
   "execution_count": null,
   "metadata": {
    "colab": {
     "base_uri": "https://localhost:8080/"
    },
    "executionInfo": {
     "elapsed": 901,
     "status": "ok",
     "timestamp": 1617886826723,
     "user": {
      "displayName": "Visara Urovi",
      "photoUrl": "https://lh3.googleusercontent.com/a-/AOh14GjIw9v4kP-qtBg4fO0SKj3ilYQbBKNgj_Dw1NLeFg=s64",
      "userId": "10715840550088536341"
     },
     "user_tz": -120
    },
    "id": "LjGj4jMBvdNM",
    "outputId": "aff67fcc-030a-4677-c908-952954619b30"
   },
   "outputs": [],
   "source": [
    "print(matrix[1,1])"
   ]
  },
  {
   "cell_type": "markdown",
   "metadata": {
    "id": "QYPE-V6Fvg7O"
   },
   "source": [
    "Select all elements of vector:"
   ]
  },
  {
   "cell_type": "code",
   "execution_count": null,
   "metadata": {
    "colab": {
     "base_uri": "https://localhost:8080/"
    },
    "executionInfo": {
     "elapsed": 622,
     "status": "ok",
     "timestamp": 1617886834143,
     "user": {
      "displayName": "Visara Urovi",
      "photoUrl": "https://lh3.googleusercontent.com/a-/AOh14GjIw9v4kP-qtBg4fO0SKj3ilYQbBKNgj_Dw1NLeFg=s64",
      "userId": "10715840550088536341"
     },
     "user_tz": -120
    },
    "id": "MJO2gwtQvjbT",
    "outputId": "c4c57001-afe5-4265-a6f2-2b694242f139"
   },
   "outputs": [],
   "source": [
    "print(vector[:])"
   ]
  },
  {
   "cell_type": "markdown",
   "metadata": {
    "id": "AjkbRKxZvnEC"
   },
   "source": [
    "Select everything up to and including the 3rd element:"
   ]
  },
  {
   "cell_type": "code",
   "execution_count": null,
   "metadata": {
    "colab": {
     "base_uri": "https://localhost:8080/"
    },
    "executionInfo": {
     "elapsed": 524,
     "status": "ok",
     "timestamp": 1617886901970,
     "user": {
      "displayName": "Visara Urovi",
      "photoUrl": "https://lh3.googleusercontent.com/a-/AOh14GjIw9v4kP-qtBg4fO0SKj3ilYQbBKNgj_Dw1NLeFg=s64",
      "userId": "10715840550088536341"
     },
     "user_tz": -120
    },
    "id": "mkTZOsSgvxtG",
    "outputId": "8b817a2b-fadc-4a2b-835e-508de358fc5c"
   },
   "outputs": [],
   "source": [
    "print(vector[:3])"
   ]
  },
  {
   "cell_type": "markdown",
   "metadata": {
    "id": "J9vO1jO4v0fd"
   },
   "source": [
    "Select the last element:"
   ]
  },
  {
   "cell_type": "code",
   "execution_count": null,
   "metadata": {
    "colab": {
     "base_uri": "https://localhost:8080/"
    },
    "executionInfo": {
     "elapsed": 535,
     "status": "ok",
     "timestamp": 1617886890849,
     "user": {
      "displayName": "Visara Urovi",
      "photoUrl": "https://lh3.googleusercontent.com/a-/AOh14GjIw9v4kP-qtBg4fO0SKj3ilYQbBKNgj_Dw1NLeFg=s64",
      "userId": "10715840550088536341"
     },
     "user_tz": -120
    },
    "id": "m3YY4V6Wv1OW",
    "outputId": "96f110b0-3f04-4949-e7d4-fde5b63611d9"
   },
   "outputs": [],
   "source": [
    "print(vector[-1])"
   ]
  },
  {
   "cell_type": "markdown",
   "metadata": {
    "id": "_AwI0GBEv6K8"
   },
   "source": [
    "Select all rows in the 2nd column of the matrix:"
   ]
  },
  {
   "cell_type": "code",
   "execution_count": null,
   "metadata": {
    "colab": {
     "base_uri": "https://localhost:8080/"
    },
    "executionInfo": {
     "elapsed": 2285,
     "status": "ok",
     "timestamp": 1617886948767,
     "user": {
      "displayName": "Visara Urovi",
      "photoUrl": "https://lh3.googleusercontent.com/a-/AOh14GjIw9v4kP-qtBg4fO0SKj3ilYQbBKNgj_Dw1NLeFg=s64",
      "userId": "10715840550088536341"
     },
     "user_tz": -120
    },
    "id": "gZ-7q7qbv65E",
    "outputId": "0918add6-f6b8-4400-ed4e-e1bd5717dc05"
   },
   "outputs": [],
   "source": [
    "print(matrix[:,1:2])"
   ]
  },
  {
   "cell_type": "markdown",
   "metadata": {
    "id": "LAdUtBbXwBd1"
   },
   "source": [
    "### Describing a matrix\n",
    "\n",
    "When you want to know about the shape size and dimensions of a matrix:"
   ]
  },
  {
   "cell_type": "code",
   "execution_count": null,
   "metadata": {
    "colab": {
     "base_uri": "https://localhost:8080/"
    },
    "executionInfo": {
     "elapsed": 1109,
     "status": "ok",
     "timestamp": 1617886992277,
     "user": {
      "displayName": "Visara Urovi",
      "photoUrl": "https://lh3.googleusercontent.com/a-/AOh14GjIw9v4kP-qtBg4fO0SKj3ilYQbBKNgj_Dw1NLeFg=s64",
      "userId": "10715840550088536341"
     },
     "user_tz": -120
    },
    "id": "niF0a1-KwPER",
    "outputId": "68d46774-3667-490f-e6b5-2d3ab3887dd0"
   },
   "outputs": [],
   "source": [
    "print(matrix.shape)\n",
    "print(matrix.size)\n",
    "print(matrix.ndim)"
   ]
  },
  {
   "cell_type": "markdown",
   "metadata": {
    "id": "jYcOLynn1LdG"
   },
   "source": [
    "What these values correspond to?\n",
    "\n",
    "### Applying operations to elements\n",
    "\n",
    "You want to apply some function to multiple elements in an array. Numpy’s vectorize class converts a function into a function that can apply to multiple elements in an array or slice of an array.\n",
    "\n",
    "Create a function that adds 100 to something:"
   ]
  },
  {
   "cell_type": "code",
   "execution_count": null,
   "metadata": {
    "id": "AQVgCjMV1M1D"
   },
   "outputs": [],
   "source": [
    "add_100 = lambda i: i+100"
   ]
  },
  {
   "cell_type": "markdown",
   "metadata": {
    "id": "D6nDbmp81UMU"
   },
   "source": [
    "Apply that function to all elements in matrix:"
   ]
  },
  {
   "cell_type": "code",
   "execution_count": null,
   "metadata": {
    "colab": {
     "base_uri": "https://localhost:8080/"
    },
    "executionInfo": {
     "elapsed": 725,
     "status": "ok",
     "timestamp": 1617887050149,
     "user": {
      "displayName": "Visara Urovi",
      "photoUrl": "https://lh3.googleusercontent.com/a-/AOh14GjIw9v4kP-qtBg4fO0SKj3ilYQbBKNgj_Dw1NLeFg=s64",
      "userId": "10715840550088536341"
     },
     "user_tz": -120
    },
    "id": "av7TXW-51WnX",
    "outputId": "8c9704f7-27ab-4a27-c1f2-823665450de4"
   },
   "outputs": [],
   "source": [
    "add_100(matrix)"
   ]
  },
  {
   "cell_type": "code",
   "execution_count": null,
   "metadata": {
    "colab": {
     "base_uri": "https://localhost:8080/"
    },
    "executionInfo": {
     "elapsed": 636,
     "status": "ok",
     "timestamp": 1617887242680,
     "user": {
      "displayName": "Visara Urovi",
      "photoUrl": "https://lh3.googleusercontent.com/a-/AOh14GjIw9v4kP-qtBg4fO0SKj3ilYQbBKNgj_Dw1NLeFg=s64",
      "userId": "10715840550088536341"
     },
     "user_tz": -120
    },
    "id": "Fp_9TTQ0l-3w",
    "outputId": "15f1d98a-e182-4998-ae83-654884287eb2"
   },
   "outputs": [],
   "source": [
    "add_100(vector)"
   ]
  },
  {
   "cell_type": "code",
   "execution_count": null,
   "metadata": {
    "colab": {
     "base_uri": "https://localhost:8080/"
    },
    "executionInfo": {
     "elapsed": 771,
     "status": "ok",
     "timestamp": 1617887334608,
     "user": {
      "displayName": "Visara Urovi",
      "photoUrl": "https://lh3.googleusercontent.com/a-/AOh14GjIw9v4kP-qtBg4fO0SKj3ilYQbBKNgj_Dw1NLeFg=s64",
      "userId": "10715840550088536341"
     },
     "user_tz": -120
    },
    "id": "aSl_P3sGmRNR",
    "outputId": "2bd6247f-770f-41b0-ab6e-90b66e369c65"
   },
   "outputs": [],
   "source": [
    "add_100(34)"
   ]
  },
  {
   "cell_type": "markdown",
   "metadata": {
    "id": "Gpp5WnZD1Z3U"
   },
   "source": [
    "### Finding the max and min values\n",
    "\n",
    "We use Numpy’s max and min functions:"
   ]
  },
  {
   "cell_type": "code",
   "execution_count": null,
   "metadata": {
    "colab": {
     "base_uri": "https://localhost:8080/"
    },
    "executionInfo": {
     "elapsed": 568,
     "status": "ok",
     "timestamp": 1617887366872,
     "user": {
      "displayName": "Visara Urovi",
      "photoUrl": "https://lh3.googleusercontent.com/a-/AOh14GjIw9v4kP-qtBg4fO0SKj3ilYQbBKNgj_Dw1NLeFg=s64",
      "userId": "10715840550088536341"
     },
     "user_tz": -120
    },
    "id": "e5ep5lhC1jpk",
    "outputId": "e2f2f257-6dcd-4416-b3cd-6c38095c1521"
   },
   "outputs": [],
   "source": [
    "print(np.max(matrix))\n",
    "print(np.min(matrix))\n",
    "print(np.max(matrix,axis=0))\n",
    "print(np.max(matrix,axis=1))"
   ]
  },
  {
   "cell_type": "markdown",
   "metadata": {
    "id": "k0bdGlfE1ohv"
   },
   "source": [
    "What these values correspond to?\n",
    "\n",
    "### Reshaping arrays\n",
    "\n",
    "When you want to reshape an array (changing the number of rows and columns) without changing the elements:"
   ]
  },
  {
   "cell_type": "code",
   "execution_count": null,
   "metadata": {
    "colab": {
     "base_uri": "https://localhost:8080/"
    },
    "executionInfo": {
     "elapsed": 528,
     "status": "ok",
     "timestamp": 1617887477808,
     "user": {
      "displayName": "Visara Urovi",
      "photoUrl": "https://lh3.googleusercontent.com/a-/AOh14GjIw9v4kP-qtBg4fO0SKj3ilYQbBKNgj_Dw1NLeFg=s64",
      "userId": "10715840550088536341"
     },
     "user_tz": -120
    },
    "id": "LNmowNl42WVO",
    "outputId": "59a79467-477d-42d2-bab5-032c46c42909"
   },
   "outputs": [],
   "source": [
    "print(matrix.reshape(6,1))"
   ]
  },
  {
   "cell_type": "code",
   "execution_count": null,
   "metadata": {
    "colab": {
     "base_uri": "https://localhost:8080/"
    },
    "executionInfo": {
     "elapsed": 589,
     "status": "ok",
     "timestamp": 1617887506126,
     "user": {
      "displayName": "Visara Urovi",
      "photoUrl": "https://lh3.googleusercontent.com/a-/AOh14GjIw9v4kP-qtBg4fO0SKj3ilYQbBKNgj_Dw1NLeFg=s64",
      "userId": "10715840550088536341"
     },
     "user_tz": -120
    },
    "id": "ofsst7eE2ZQ_",
    "outputId": "ef6e59a8-1ae4-4038-a453-c6bd97af1d78"
   },
   "outputs": [],
   "source": [
    "print(matrix.flatten())"
   ]
  },
  {
   "cell_type": "markdown",
   "metadata": {
    "id": "XI3hjKJV2eMF"
   },
   "source": [
    "### Operations with matrices\n",
    "\n",
    "Adding, subtracting and multiplying:"
   ]
  },
  {
   "cell_type": "code",
   "execution_count": null,
   "metadata": {
    "id": "XmduFTpZ2mJY"
   },
   "outputs": [],
   "source": [
    "matrix_1 = np.array([[1,2,3],[4,5,6],[7,8,9]])\n",
    "matrix_2 = np.array([[7,8,9],[4,5,6],[1,2,3]])"
   ]
  },
  {
   "cell_type": "markdown",
   "metadata": {
    "id": "rOWcik7l2pCP"
   },
   "source": [
    "Add and substract 2 matrices:"
   ]
  },
  {
   "cell_type": "code",
   "execution_count": null,
   "metadata": {
    "colab": {
     "base_uri": "https://localhost:8080/"
    },
    "executionInfo": {
     "elapsed": 621,
     "status": "ok",
     "timestamp": 1617887581848,
     "user": {
      "displayName": "Visara Urovi",
      "photoUrl": "https://lh3.googleusercontent.com/a-/AOh14GjIw9v4kP-qtBg4fO0SKj3ilYQbBKNgj_Dw1NLeFg=s64",
      "userId": "10715840550088536341"
     },
     "user_tz": -120
    },
    "id": "1AtjKQ3e2u_q",
    "outputId": "beac804f-28f4-4b2a-8880-11d971a7436e"
   },
   "outputs": [],
   "source": [
    "print(np.add(matrix_1, matrix_2))"
   ]
  },
  {
   "cell_type": "code",
   "execution_count": null,
   "metadata": {
    "colab": {
     "base_uri": "https://localhost:8080/"
    },
    "executionInfo": {
     "elapsed": 885,
     "status": "ok",
     "timestamp": 1617887589260,
     "user": {
      "displayName": "Visara Urovi",
      "photoUrl": "https://lh3.googleusercontent.com/a-/AOh14GjIw9v4kP-qtBg4fO0SKj3ilYQbBKNgj_Dw1NLeFg=s64",
      "userId": "10715840550088536341"
     },
     "user_tz": -120
    },
    "id": "2TQbNpyq22pa",
    "outputId": "e815d4d9-c52c-41a2-ffac-274ee6de0198"
   },
   "outputs": [],
   "source": [
    "print(np.subtract(matrix_1, matrix_2))"
   ]
  },
  {
   "cell_type": "markdown",
   "metadata": {
    "id": "UGbZMgCy2zs0"
   },
   "source": [
    "Now let's do multiplication (element wise, and dot product):"
   ]
  },
  {
   "cell_type": "code",
   "execution_count": null,
   "metadata": {
    "colab": {
     "base_uri": "https://localhost:8080/"
    },
    "executionInfo": {
     "elapsed": 1116,
     "status": "ok",
     "timestamp": 1617887622806,
     "user": {
      "displayName": "Visara Urovi",
      "photoUrl": "https://lh3.googleusercontent.com/a-/AOh14GjIw9v4kP-qtBg4fO0SKj3ilYQbBKNgj_Dw1NLeFg=s64",
      "userId": "10715840550088536341"
     },
     "user_tz": -120
    },
    "id": "VKtC2hlI3FLv",
    "outputId": "ed7a2edb-9fd9-42d9-a999-e18fad466395"
   },
   "outputs": [],
   "source": [
    "print(matrix_1*matrix_2)"
   ]
  },
  {
   "cell_type": "code",
   "execution_count": null,
   "metadata": {
    "colab": {
     "base_uri": "https://localhost:8080/"
    },
    "executionInfo": {
     "elapsed": 539,
     "status": "ok",
     "timestamp": 1617887642862,
     "user": {
      "displayName": "Visara Urovi",
      "photoUrl": "https://lh3.googleusercontent.com/a-/AOh14GjIw9v4kP-qtBg4fO0SKj3ilYQbBKNgj_Dw1NLeFg=s64",
      "userId": "10715840550088536341"
     },
     "user_tz": -120
    },
    "id": "JC007dzE3KLl",
    "outputId": "aa3ef7fd-0a1e-4506-863f-918c7865b767"
   },
   "outputs": [],
   "source": [
    "print(matrix_1@matrix_2)"
   ]
  }
 ],
 "metadata": {
  "colab": {
   "collapsed_sections": [
    "buN1WsIrcQFV",
    "MRpRO24bYIES",
    "lduy5wqMbx8Z",
    "bj1gw8ktA8vJ",
    "LQFhg4w8DIIy",
    "UONRAlQ9h6uw",
    "W9Oc2Sax-9KN",
    "mBOrE9quh0wL",
    "YGj646CroUG_",
    "f9j3vLIruTCw",
    "NUJYqaquuiQ2",
    "8YsOwOFFux_O",
    "_JLJ0F5OvHKK",
    "LAdUtBbXwBd1",
    "Gpp5WnZD1Z3U",
    "k0bdGlfE1ohv",
    "XI3hjKJV2eMF",
    "UGbZMgCy2zs0"
   ],
   "name": "D1-Python_Data_Structures.ipynb",
   "provenance": []
  },
  "kernelspec": {
   "display_name": "anaconda3",
   "language": "python",
   "name": "anaconda3"
  },
  "language_info": {
   "codemirror_mode": {
    "name": "ipython",
    "version": 3
   },
   "file_extension": ".py",
   "mimetype": "text/x-python",
   "name": "python",
   "nbconvert_exporter": "python",
   "pygments_lexer": "ipython3",
   "version": "3.7.0"
  }
 },
 "nbformat": 4,
 "nbformat_minor": 1
}
