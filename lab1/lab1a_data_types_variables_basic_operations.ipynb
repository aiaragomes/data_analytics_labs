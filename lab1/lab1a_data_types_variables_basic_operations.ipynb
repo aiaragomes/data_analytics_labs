{
 "cells": [
  {
   "cell_type": "markdown",
   "metadata": {
    "id": "1ilb9QQhIphh"
   },
   "source": [
    "# Data types, variables & basic operations\n",
    "\n",
    "Let's get started with the lab sessions by understanding some basics of programming with Python. We will start with learning about different data types, variables, and how to do some basic operations.\n",
    "\n",
    "> Data type or simply type is an attribute of data which tells the compiler or interpreter how the programmer intends to use the data (Wikipedia).\n",
    "\n",
    "\n",
    "## Integer and float\n",
    "\n",
    "Integers and floats are two of the most basic data types. We can perform simple arithmetic operations with them and use Python as if it was a simple calculator."
   ]
  },
  {
   "cell_type": "code",
   "execution_count": null,
   "metadata": {
    "colab": {
     "base_uri": "https://localhost:8080/"
    },
    "executionInfo": {
     "elapsed": 27,
     "status": "ok",
     "timestamp": 1626848504344,
     "user": {
      "displayName": "Sil Aarts",
      "photoUrl": "",
      "userId": "15954943278796641985"
     },
     "user_tz": -120
    },
    "id": "dFgbxq_gIsET",
    "outputId": "87ce79f7-517c-444a-9c7e-0972844a3d52",
    "scrolled": true
   },
   "outputs": [],
   "source": [
    "1+1"
   ]
  },
  {
   "cell_type": "code",
   "execution_count": null,
   "metadata": {
    "colab": {
     "base_uri": "https://localhost:8080/"
    },
    "executionInfo": {
     "elapsed": 23,
     "status": "ok",
     "timestamp": 1626848504345,
     "user": {
      "displayName": "Sil Aarts",
      "photoUrl": "",
      "userId": "15954943278796641985"
     },
     "user_tz": -120
    },
    "id": "FqiEVYhhIwCc",
    "outputId": "3efc4883-4971-4af2-81b1-808d4afa9c72"
   },
   "outputs": [],
   "source": [
    "3/2"
   ]
  },
  {
   "cell_type": "markdown",
   "metadata": {
    "id": "wV6HfJdDJVMd"
   },
   "source": [
    "Can you think of other calculations that leads to integers and floats? \n",
    "Is the data type result what you expected it to be?"
   ]
  },
  {
   "cell_type": "code",
   "execution_count": null,
   "metadata": {
    "executionInfo": {
     "elapsed": 20,
     "status": "ok",
     "timestamp": 1626848504346,
     "user": {
      "displayName": "Sil Aarts",
      "photoUrl": "",
      "userId": "15954943278796641985"
     },
     "user_tz": -120
    },
    "id": "tCuS45X5JSXI"
   },
   "outputs": [],
   "source": [
    "# TODO: think of a division that should lead to an integer\n"
   ]
  },
  {
   "cell_type": "code",
   "execution_count": null,
   "metadata": {
    "executionInfo": {
     "elapsed": 19,
     "status": "ok",
     "timestamp": 1626848504346,
     "user": {
      "displayName": "Sil Aarts",
      "photoUrl": "",
      "userId": "15954943278796641985"
     },
     "user_tz": -120
    },
    "id": "gjP0up1eJ1_f"
   },
   "outputs": [],
   "source": [
    "# TODO: think of a division that should lead to a float\n"
   ]
  },
  {
   "cell_type": "markdown",
   "metadata": {
    "id": "6R7URYjYMdui"
   },
   "source": [
    "## Variables\n",
    "\n",
    "You can also define variables using the equals (=) sign and perform calculations with them. But there are some rules:\n",
    "\n",
    "- You can name a variable almost anything you want, but you should try to always use descriptive names;\n",
    "- It needs to start with an alphabetical character or \"\\_\" and can contain alphanumeric characters plus underscores (\"\\_\");\n",
    "- Certain words, however, are reserved for the language:\n",
    "    **and, as, assert, break, class, continue, def, del, elif, else, except, exec, finally, for, from, global, if, import, in, is, lambda, not, or, pass, print, raise, return, try, while, with, yield**;\n",
    "- Trying to define a variable using one of these will result in a syntax error.\n",
    "\n",
    "For example:"
   ]
  },
  {
   "cell_type": "code",
   "execution_count": null,
   "metadata": {
    "executionInfo": {
     "elapsed": 12,
     "status": "aborted",
     "timestamp": 1626848504349,
     "user": {
      "displayName": "Sil Aarts",
      "photoUrl": "",
      "userId": "15954943278796641985"
     },
     "user_tz": -120
    },
    "id": "d0Jz84IbQEuC"
   },
   "outputs": [],
   "source": [
    "return = 0"
   ]
  },
  {
   "cell_type": "markdown",
   "metadata": {},
   "source": [
    "The error messages are often quite clear in explaining what went wrong, so if you get one don't be afraid! Try to read it and understand what went wrong.\n",
    "\n",
    "Let's now define some variables related to size and calculate some geometrical measures with it:"
   ]
  },
  {
   "cell_type": "code",
   "execution_count": null,
   "metadata": {
    "colab": {
     "base_uri": "https://localhost:8080/"
    },
    "executionInfo": {
     "elapsed": 15,
     "status": "ok",
     "timestamp": 1626848504348,
     "user": {
      "displayName": "Sil Aarts",
      "photoUrl": "",
      "userId": "15954943278796641985"
     },
     "user_tz": -120
    },
    "id": "LQZLc0IAMGqm",
    "outputId": "18d540ad-7235-4641-cad4-756c2c6503ff"
   },
   "outputs": [],
   "source": [
    "width = 20\n",
    "length = 30\n",
    "depth = 10\n",
    "area = length*width\n",
    "area"
   ]
  },
  {
   "cell_type": "markdown",
   "metadata": {
    "id": "jenj_47RMXxk"
   },
   "source": [
    "If you try to access a variable that you haven't defined yet, you will also get an error:"
   ]
  },
  {
   "cell_type": "code",
   "execution_count": null,
   "metadata": {
    "colab": {
     "base_uri": "https://localhost:8080/",
     "height": 164
    },
    "executionInfo": {
     "elapsed": 15,
     "status": "error",
     "timestamp": 1626848504350,
     "user": {
      "displayName": "Sil Aarts",
      "photoUrl": "",
      "userId": "15954943278796641985"
     },
     "user_tz": -120
    },
    "id": "gjy_ukt6MaMh",
    "outputId": "d19529f7-eaaf-46fd-e0b9-52f60f0a65b3"
   },
   "outputs": [],
   "source": [
    "volume"
   ]
  },
  {
   "cell_type": "markdown",
   "metadata": {},
   "source": [
    "Now try to calculate volume with the variables that were defined above:"
   ]
  },
  {
   "cell_type": "code",
   "execution_count": null,
   "metadata": {},
   "outputs": [],
   "source": [
    "# TODO: calculate volume using the variables from above\n"
   ]
  },
  {
   "cell_type": "markdown",
   "metadata": {
    "id": "MRpRO24bYIES"
   },
   "source": [
    "## Strings\n",
    "\n",
    "Strings are another basic data type and they are sequential. They are basically letters, symbols, words or texts and can be defined using single quotes:"
   ]
  },
  {
   "cell_type": "code",
   "execution_count": null,
   "metadata": {
    "colab": {
     "base_uri": "https://localhost:8080/",
     "height": 37
    },
    "executionInfo": {
     "elapsed": 232,
     "status": "ok",
     "timestamp": 1626848679234,
     "user": {
      "displayName": "Sil Aarts",
      "photoUrl": "",
      "userId": "15954943278796641985"
     },
     "user_tz": -120
    },
    "id": "7bb9xWkaYLls",
    "outputId": "398037c1-04fd-4a4a-8f1d-5e73ee695ffc"
   },
   "outputs": [],
   "source": [
    "'Hello, Big Data Analytics Class!'"
   ]
  },
  {
   "cell_type": "markdown",
   "metadata": {
    "id": "xq27KNR6YZ4C"
   },
   "source": [
    "or double quotes:"
   ]
  },
  {
   "cell_type": "code",
   "execution_count": null,
   "metadata": {
    "colab": {
     "base_uri": "https://localhost:8080/",
     "height": 37
    },
    "executionInfo": {
     "elapsed": 20,
     "status": "ok",
     "timestamp": 1626848679235,
     "user": {
      "displayName": "Sil Aarts",
      "photoUrl": "",
      "userId": "15954943278796641985"
     },
     "user_tz": -120
    },
    "id": "L4emNfs9Ydib",
    "outputId": "8d6f9338-fa7c-48c2-ab42-4539a9df262e"
   },
   "outputs": [],
   "source": [
    "\"Hello, Big Data Analytics Class!\""
   ]
  },
  {
   "cell_type": "markdown",
   "metadata": {
    "id": "whvTTbFNY2Fy"
   },
   "source": [
    "But not both at the same time, unless you want one of the symbols to be part of the string:"
   ]
  },
  {
   "cell_type": "code",
   "execution_count": null,
   "metadata": {
    "colab": {
     "base_uri": "https://localhost:8080/",
     "height": 37
    },
    "executionInfo": {
     "elapsed": 19,
     "status": "ok",
     "timestamp": 1626848679235,
     "user": {
      "displayName": "Sil Aarts",
      "photoUrl": "",
      "userId": "15954943278796641985"
     },
     "user_tz": -120
    },
    "id": "GIozhjd4Y8cv",
    "outputId": "a7af4f10-17b8-4f9e-f1dc-ffb03b9e89a1"
   },
   "outputs": [],
   "source": [
    "\"She's a Data Scientist\""
   ]
  },
  {
   "cell_type": "code",
   "execution_count": null,
   "metadata": {
    "colab": {
     "base_uri": "https://localhost:8080/",
     "height": 37
    },
    "executionInfo": {
     "elapsed": 17,
     "status": "ok",
     "timestamp": 1626848679235,
     "user": {
      "displayName": "Sil Aarts",
      "photoUrl": "",
      "userId": "15954943278796641985"
     },
     "user_tz": -120
    },
    "id": "lCfArMfXZGxZ",
    "outputId": "28acc856-bddd-455a-deba-13c4af1722e8"
   },
   "outputs": [],
   "source": [
    "'He asked: \"How are you today?\"'"
   ]
  },
  {
   "cell_type": "markdown",
   "metadata": {
    "id": "rSGAoQOgZAjl"
   },
   "source": [
    "You can also assign a string to a variable:"
   ]
  },
  {
   "cell_type": "code",
   "execution_count": null,
   "metadata": {
    "executionInfo": {
     "elapsed": 17,
     "status": "ok",
     "timestamp": 1626848679236,
     "user": {
      "displayName": "Sil Aarts",
      "photoUrl": "",
      "userId": "15954943278796641985"
     },
     "user_tz": -120
    },
    "id": "O_3S9SnDZcez"
   },
   "outputs": [],
   "source": [
    "greeting = \"Hello, Big Data Analytics Class!\""
   ]
  },
  {
   "cell_type": "markdown",
   "metadata": {
    "id": "JUseTnsDZogQ"
   },
   "source": [
    "The print statement is often used for printing character strings:"
   ]
  },
  {
   "cell_type": "code",
   "execution_count": null,
   "metadata": {
    "colab": {
     "base_uri": "https://localhost:8080/"
    },
    "executionInfo": {
     "elapsed": 16,
     "status": "ok",
     "timestamp": 1626848679236,
     "user": {
      "displayName": "Sil Aarts",
      "photoUrl": "",
      "userId": "15954943278796641985"
     },
     "user_tz": -120
    },
    "id": "jk9lV-45Zpwi",
    "outputId": "7cb6bec5-7b68-45e2-9039-fd456d5c1beb"
   },
   "outputs": [],
   "source": [
    "print(greeting)"
   ]
  },
  {
   "cell_type": "code",
   "execution_count": null,
   "metadata": {},
   "outputs": [],
   "source": [
    "# TODO: now define and print another greeting\n"
   ]
  },
  {
   "cell_type": "markdown",
   "metadata": {
    "id": "UVl9r-r_agD-"
   },
   "source": [
    "**Side note**: We can also use print with data types other than strings:"
   ]
  },
  {
   "cell_type": "code",
   "execution_count": null,
   "metadata": {
    "colab": {
     "base_uri": "https://localhost:8080/"
    },
    "executionInfo": {
     "elapsed": 14,
     "status": "ok",
     "timestamp": 1626848679237,
     "user": {
      "displayName": "Sil Aarts",
      "photoUrl": "",
      "userId": "15954943278796641985"
     },
     "user_tz": -120
    },
    "id": "xq2cXtq2ajCc",
    "outputId": "cccf18eb-bf48-4f63-f889-301c85f3a0f1"
   },
   "outputs": [],
   "source": [
    "print(\"The area is\", area)"
   ]
  },
  {
   "cell_type": "markdown",
   "metadata": {
    "id": "i3LNldMIbAlo"
   },
   "source": [
    "You can use the + operator to concatenate strings together:"
   ]
  },
  {
   "cell_type": "code",
   "execution_count": null,
   "metadata": {
    "colab": {
     "base_uri": "https://localhost:8080/"
    },
    "executionInfo": {
     "elapsed": 13,
     "status": "ok",
     "timestamp": 1626848679238,
     "user": {
      "displayName": "Sil Aarts",
      "photoUrl": "",
      "userId": "15954943278796641985"
     },
     "user_tz": -120
    },
    "id": "OuaVWjUhbHtC",
    "outputId": "c84860ca-b03b-4cdd-ff4a-9fbecffc26c9"
   },
   "outputs": [],
   "source": [
    "statement = \"Hello,\" + \"teacher!\"\n",
    "print(statement)"
   ]
  },
  {
   "cell_type": "markdown",
   "metadata": {
    "id": "ZYnir8LQbYUb"
   },
   "source": [
    "Don't forget the space between the strings, if you want one there."
   ]
  },
  {
   "cell_type": "code",
   "execution_count": null,
   "metadata": {
    "colab": {
     "base_uri": "https://localhost:8080/"
    },
    "executionInfo": {
     "elapsed": 12,
     "status": "ok",
     "timestamp": 1626848679238,
     "user": {
      "displayName": "Sil Aarts",
      "photoUrl": "",
      "userId": "15954943278796641985"
     },
     "user_tz": -120
    },
    "id": "a3hbn3vlbZQ4",
    "outputId": "c536e164-7c1e-40e0-fc7d-13e8bd18cd6c"
   },
   "outputs": [],
   "source": [
    "statement = \"Hello, \" + \"teacher!\"\n",
    "print(statement)"
   ]
  },
  {
   "cell_type": "markdown",
   "metadata": {
    "id": "zd18mj88bphm"
   },
   "source": [
    "You can use + to concatenate multiple strings in a single statement:"
   ]
  },
  {
   "cell_type": "code",
   "execution_count": null,
   "metadata": {
    "colab": {
     "base_uri": "https://localhost:8080/"
    },
    "executionInfo": {
     "elapsed": 11,
     "status": "ok",
     "timestamp": 1626848679238,
     "user": {
      "displayName": "Sil Aarts",
      "photoUrl": "",
      "userId": "15954943278796641985"
     },
     "user_tz": -120
    },
    "id": "iqtl_mWRbqhE",
    "outputId": "8a2eca39-3008-4d22-b4b2-b51e0ef6e86c"
   },
   "outputs": [],
   "source": [
    "print(\"This \" + \"is \" + \"a \" + \"longer \" + \"statement.\")"
   ]
  },
  {
   "cell_type": "markdown",
   "metadata": {
    "id": "lduy5wqMbx8Z"
   },
   "source": [
    "## Lists & indices\n",
    "\n",
    "Very often in a programming language, one wants to keep a group of similar items together. Python does this using a data type called lists."
   ]
  },
  {
   "cell_type": "code",
   "execution_count": null,
   "metadata": {
    "executionInfo": {
     "elapsed": 318,
     "status": "ok",
     "timestamp": 1626848677561,
     "user": {
      "displayName": "Sil Aarts",
      "photoUrl": "",
      "userId": "15954943278796641985"
     },
     "user_tz": -120
    },
    "id": "wgDzDysycvgG"
   },
   "outputs": [],
   "source": [
    "days_of_the_week = [\"Monday\", \"Tuesday\", \"Wednesday\", \"Thursday\", \"Friday\", \"Saturday\", \"Sunday\"]"
   ]
  },
  {
   "cell_type": "markdown",
   "metadata": {
    "id": "XGq7TsY1c3HC"
   },
   "source": [
    "You can access members of the list using the **index** of that item:"
   ]
  },
  {
   "cell_type": "code",
   "execution_count": null,
   "metadata": {
    "colab": {
     "base_uri": "https://localhost:8080/",
     "height": 37
    },
    "executionInfo": {
     "elapsed": 15,
     "status": "ok",
     "timestamp": 1626848677562,
     "user": {
      "displayName": "Sil Aarts",
      "photoUrl": "",
      "userId": "15954943278796641985"
     },
     "user_tz": -120
    },
    "id": "dptT387xc7Za",
    "outputId": "862cd2f0-257d-4d1d-de6e-06929fa21be4"
   },
   "outputs": [],
   "source": [
    "days_of_the_week[2]"
   ]
  },
  {
   "cell_type": "markdown",
   "metadata": {
    "id": "YoMavIOzdDcb"
   },
   "source": [
    "Python lists use 0 as the index of the first element of a list. Thus, in this example, the 0 element is \"Monday\", 1 is \"Tuesday\", and so on."
   ]
  },
  {
   "cell_type": "code",
   "execution_count": null,
   "metadata": {},
   "outputs": [],
   "source": [
    "print(days_of_the_week[0])"
   ]
  },
  {
   "cell_type": "markdown",
   "metadata": {},
   "source": [
    "If you need to access the n'th element from the end of the list, you can use a negative index. For example, the -1 element of a list is the last element:"
   ]
  },
  {
   "cell_type": "code",
   "execution_count": null,
   "metadata": {
    "colab": {
     "base_uri": "https://localhost:8080/",
     "height": 37
    },
    "executionInfo": {
     "elapsed": 12,
     "status": "ok",
     "timestamp": 1626848677562,
     "user": {
      "displayName": "Sil Aarts",
      "photoUrl": "",
      "userId": "15954943278796641985"
     },
     "user_tz": -120
    },
    "id": "ujQiGtDVdbZy",
    "outputId": "0e89c4bb-6007-4c28-d4d3-f8e58e423927"
   },
   "outputs": [],
   "source": [
    "days_of_the_week[-1]"
   ]
  },
  {
   "cell_type": "markdown",
   "metadata": {
    "id": "OEloxBVcdq6s"
   },
   "source": [
    "You can add additional items to a list using the .append() method:"
   ]
  },
  {
   "cell_type": "code",
   "execution_count": null,
   "metadata": {
    "colab": {
     "base_uri": "https://localhost:8080/"
    },
    "executionInfo": {
     "elapsed": 11,
     "status": "ok",
     "timestamp": 1626848677563,
     "user": {
      "displayName": "Sil Aarts",
      "photoUrl": "",
      "userId": "15954943278796641985"
     },
     "user_tz": -120
    },
    "id": "NH8yDdAddr4-",
    "outputId": "d5dc21b3-8da3-464a-8db1-c12ff13c6513"
   },
   "outputs": [],
   "source": [
    "languages = [\"Fortran\", \"C\", \"C++\"]\n",
    "languages.append(\"Python\")\n",
    "print(languages)"
   ]
  },
  {
   "cell_type": "markdown",
   "metadata": {
    "id": "zSsI0FQHd0lR"
   },
   "source": [
    "Now we are going to define a list with the names of the teachers from this course:"
   ]
  },
  {
   "cell_type": "code",
   "execution_count": null,
   "metadata": {
    "cellView": "form",
    "colab": {
     "base_uri": "https://localhost:8080/",
     "height": 37
    },
    "executionInfo": {
     "elapsed": 9,
     "status": "ok",
     "timestamp": 1626848677563,
     "user": {
      "displayName": "Sil Aarts",
      "photoUrl": "",
      "userId": "15954943278796641985"
     },
     "user_tz": -120
    },
    "id": "FuZGaBGAeTgw",
    "outputId": "f7a4a47f-46e4-4d7c-fb4d-793bffa9b23d"
   },
   "outputs": [],
   "source": [
    "names = [\"Emiel\", \"Hans\", \"Ekaterini\", \"Arash\", \"Vernes\", \"Joris\", \"Aiara\"]"
   ]
  },
  {
   "cell_type": "code",
   "execution_count": null,
   "metadata": {
    "colab": {
     "base_uri": "https://localhost:8080/",
     "height": 37
    },
    "executionInfo": {
     "elapsed": 9,
     "status": "ok",
     "timestamp": 1626848677564,
     "user": {
      "displayName": "Sil Aarts",
      "photoUrl": "",
      "userId": "15954943278796641985"
     },
     "user_tz": -120
    },
    "id": "IJWNW_29O_n6",
    "outputId": "87c552d8-fdc8-4af3-d353-adac3bc79504"
   },
   "outputs": [],
   "source": [
    "# TODO: print the name of the teacher who gave you the lecture \"Data Management & Business Intelligence\"\n"
   ]
  },
  {
   "cell_type": "code",
   "execution_count": null,
   "metadata": {},
   "outputs": [],
   "source": [
    "# TODO: print the name of the teacher who gave you the lecture \"Cyber resilience\" \n",
    "# using the notation with the smallest possible number\n"
   ]
  },
  {
   "cell_type": "code",
   "execution_count": null,
   "metadata": {
    "colab": {
     "base_uri": "https://localhost:8080/",
     "height": 37
    },
    "executionInfo": {
     "elapsed": 305,
     "status": "ok",
     "timestamp": 1626848677861,
     "user": {
      "displayName": "Sil Aarts",
      "photoUrl": "",
      "userId": "15954943278796641985"
     },
     "user_tz": -120
    },
    "id": "-LjIub-5eT0_",
    "outputId": "79960d94-d3ca-474d-daaf-31846295dc5f"
   },
   "outputs": [],
   "source": [
    "# TODO: now append your name to the list of names and print the result\n"
   ]
  },
  {
   "cell_type": "markdown",
   "metadata": {},
   "source": [
    "You can find out how long a list is by using the len() function and giving the list as input. You can also check the documentation of functions using the `help` function:"
   ]
  },
  {
   "cell_type": "code",
   "execution_count": null,
   "metadata": {},
   "outputs": [],
   "source": [
    "help(len)"
   ]
  },
  {
   "cell_type": "code",
   "execution_count": null,
   "metadata": {},
   "outputs": [],
   "source": [
    "# TODO: how many names are included in the `names` list?\n"
   ]
  },
  {
   "cell_type": "markdown",
   "metadata": {
    "id": "1-__ek_8fgUL"
   },
   "source": [
    "Lists do not have to hold the same data type. For example:"
   ]
  },
  {
   "cell_type": "code",
   "execution_count": null,
   "metadata": {
    "colab": {
     "base_uri": "https://localhost:8080/"
    },
    "executionInfo": {
     "elapsed": 9,
     "status": "ok",
     "timestamp": 1626848677863,
     "user": {
      "displayName": "Sil Aarts",
      "photoUrl": "",
      "userId": "15954943278796641985"
     },
     "user_tz": -120
    },
    "id": "L87howb3fhFl",
    "outputId": "4721ff56-0916-4c91-9c8f-f406b6e67557"
   },
   "outputs": [],
   "source": [
    "[\"Answer\", 42, 3.1416]"
   ]
  },
  {
   "cell_type": "markdown",
   "metadata": {
    "id": "uRWSTzOPfzei"
   },
   "source": [
    "However, it's good (but not essential) to use lists for similar objects that are somehow logically connected. If you want to group different data types together into a composite data object, it's best to use tuples, which we will learn about below."
   ]
  },
  {
   "cell_type": "markdown",
   "metadata": {
    "id": "uM_WMvtLBF4W"
   },
   "source": [
    "## Tuples\n",
    "\n",
    "A tuple is a sequence object like a list or a string. It's constructed by grouping a sequence of objects together with commas and enclosed with parentheses:"
   ]
  },
  {
   "cell_type": "code",
   "execution_count": null,
   "metadata": {
    "colab": {
     "base_uri": "https://localhost:8080/"
    },
    "executionInfo": {
     "elapsed": 542,
     "status": "ok",
     "timestamp": 1618435111309,
     "user": {
      "displayName": "Visara Urovi",
      "photoUrl": "https://lh3.googleusercontent.com/a-/AOh14GjIw9v4kP-qtBg4fO0SKj3ilYQbBKNgj_Dw1NLeFg=s64",
      "userId": "10715840550088536341"
     },
     "user_tz": -120
    },
    "id": "HTKP9D7fBKjC",
    "outputId": "4ee7cc3a-8ce8-4563-c8a6-c7cf5d4264f6"
   },
   "outputs": [],
   "source": [
    "t = ('Answer', 42, 3.1416)\n",
    "t"
   ]
  },
  {
   "cell_type": "markdown",
   "metadata": {
    "id": "qVe1hJRpBRSR"
   },
   "source": [
    "Tuples are like lists, in the sense that you can access the elements using indices:"
   ]
  },
  {
   "cell_type": "code",
   "execution_count": null,
   "metadata": {
    "colab": {
     "base_uri": "https://localhost:8080/"
    },
    "executionInfo": {
     "elapsed": 550,
     "status": "ok",
     "timestamp": 1618435120542,
     "user": {
      "displayName": "Visara Urovi",
      "photoUrl": "https://lh3.googleusercontent.com/a-/AOh14GjIw9v4kP-qtBg4fO0SKj3ilYQbBKNgj_Dw1NLeFg=s64",
      "userId": "10715840550088536341"
     },
     "user_tz": -120
    },
    "id": "lBje4xYOBSDC",
    "outputId": "a2acb855-6841-49e9-b34d-5fec7c9cf9d4"
   },
   "outputs": [],
   "source": [
    "t[1]"
   ]
  },
  {
   "cell_type": "markdown",
   "metadata": {
    "id": "UJ7bAC9dBXzF"
   },
   "source": [
    "However, tuples are immutable, you can't append to them or change the elements of them:"
   ]
  },
  {
   "cell_type": "code",
   "execution_count": null,
   "metadata": {
    "colab": {
     "base_uri": "https://localhost:8080/",
     "height": 165
    },
    "executionInfo": {
     "elapsed": 646,
     "status": "error",
     "timestamp": 1618435129431,
     "user": {
      "displayName": "Visara Urovi",
      "photoUrl": "https://lh3.googleusercontent.com/a-/AOh14GjIw9v4kP-qtBg4fO0SKj3ilYQbBKNgj_Dw1NLeFg=s64",
      "userId": "10715840550088536341"
     },
     "user_tz": -120
    },
    "id": "ELBBg8PCBYdq",
    "outputId": "2212b825-e29c-4494-97d5-ac03198df8ec"
   },
   "outputs": [],
   "source": [
    "t.append(7)"
   ]
  },
  {
   "cell_type": "code",
   "execution_count": null,
   "metadata": {
    "colab": {
     "base_uri": "https://localhost:8080/",
     "height": 165
    },
    "executionInfo": {
     "elapsed": 609,
     "status": "error",
     "timestamp": 1618435136746,
     "user": {
      "displayName": "Visara Urovi",
      "photoUrl": "https://lh3.googleusercontent.com/a-/AOh14GjIw9v4kP-qtBg4fO0SKj3ilYQbBKNgj_Dw1NLeFg=s64",
      "userId": "10715840550088536341"
     },
     "user_tz": -120
    },
    "id": "C6AnCxpzBdTQ",
    "outputId": "12077a62-0794-4fc4-eb41-6d69819ea0b4"
   },
   "outputs": [],
   "source": [
    "t[1] = 0"
   ]
  },
  {
   "cell_type": "markdown",
   "metadata": {
    "id": "QALFgWVjBkzC"
   },
   "source": [
    "Tuples are useful anytime you want to group different pieces of data together in an object. For example, let's say you want the Cartesian coordinates of some objects in your program. Tuples are a good way to do this:"
   ]
  },
  {
   "cell_type": "code",
   "execution_count": null,
   "metadata": {
    "colab": {
     "base_uri": "https://localhost:8080/"
    },
    "executionInfo": {
     "elapsed": 501,
     "status": "ok",
     "timestamp": 1618435176383,
     "user": {
      "displayName": "Visara Urovi",
      "photoUrl": "https://lh3.googleusercontent.com/a-/AOh14GjIw9v4kP-qtBg4fO0SKj3ilYQbBKNgj_Dw1NLeFg=s64",
      "userId": "10715840550088536341"
     },
     "user_tz": -120
    },
    "id": "ke9McAGoBnkP",
    "outputId": "27b1806b-1110-4267-841c-66bb4dbdc48e"
   },
   "outputs": [],
   "source": [
    "('Leia', 0.0, 21.0)"
   ]
  },
  {
   "cell_type": "markdown",
   "metadata": {
    "id": "ypXejtghButU"
   },
   "source": [
    "Again, it's not a necessary distinction, but one way to distinguish tuples and lists is that tuples are a collection of different things, here a name, and x and y coordinates. Whereas a list should be a collection of similar things, like if we want a list of coordinates:"
   ]
  },
  {
   "cell_type": "code",
   "execution_count": null,
   "metadata": {
    "id": "A4G6pQtWBvjp"
   },
   "outputs": [],
   "source": [
    "positions = [\n",
    "             ('Leia', 0.0, 21.0),\n",
    "             ('Luke', 1.0, 21.0),\n",
    "             ('C3PO', 2.0, 21.0)\n",
    "             ]"
   ]
  },
  {
   "cell_type": "markdown",
   "metadata": {
    "id": "squZ4XF6CIEs"
   },
   "source": [
    "Tuple assignment is also a convenient way to swap variables:"
   ]
  },
  {
   "cell_type": "code",
   "execution_count": null,
   "metadata": {
    "colab": {
     "base_uri": "https://localhost:8080/"
    },
    "executionInfo": {
     "elapsed": 715,
     "status": "ok",
     "timestamp": 1618435227620,
     "user": {
      "displayName": "Visara Urovi",
      "photoUrl": "https://lh3.googleusercontent.com/a-/AOh14GjIw9v4kP-qtBg4fO0SKj3ilYQbBKNgj_Dw1NLeFg=s64",
      "userId": "10715840550088536341"
     },
     "user_tz": -120
    },
    "id": "LA-czY1fCJi9",
    "outputId": "a1131c87-0ea9-4da4-d55f-42a51f67729b"
   },
   "outputs": [],
   "source": [
    "x, y = 1, 2\n",
    "y, x = x, y\n",
    "x, y"
   ]
  },
  {
   "cell_type": "code",
   "execution_count": null,
   "metadata": {},
   "outputs": [],
   "source": [
    "# TODO: create 3 different tuples containing 4 elements of your choice each. \n",
    "# Create a list containing all the 3 tuples. \n",
    "# Can you print each element of the list?\n"
   ]
  },
  {
   "cell_type": "markdown",
   "metadata": {
    "id": "G-GBdwLTDtVA"
   },
   "source": [
    "## Dictionaries\n",
    "\n",
    "Dictionaries are objects called \"mappings\" or \"associative arrays\" in other languages. Whereas a list associates an integer index with a set of objects:"
   ]
  },
  {
   "cell_type": "code",
   "execution_count": null,
   "metadata": {
    "id": "4HSHSEHoD2pY"
   },
   "outputs": [],
   "source": [
    "mylist = [1, 2, 9, 21]"
   ]
  },
  {
   "cell_type": "markdown",
   "metadata": {
    "id": "PRdnkFpsD4oh"
   },
   "source": [
    "The index in a dictionary is called a key, and the corresponding dictionary entry is the value. A dictionary can use (almost) anything as a key. Lists are formed with square brackets [], tuples with parentheses (), and dictionaries with curly brackets {}:"
   ]
  },
  {
   "cell_type": "code",
   "execution_count": null,
   "metadata": {
    "colab": {
     "base_uri": "https://localhost:8080/"
    },
    "executionInfo": {
     "elapsed": 522,
     "status": "ok",
     "timestamp": 1618435376527,
     "user": {
      "displayName": "Visara Urovi",
      "photoUrl": "https://lh3.googleusercontent.com/a-/AOh14GjIw9v4kP-qtBg4fO0SKj3ilYQbBKNgj_Dw1NLeFg=s64",
      "userId": "10715840550088536341"
     },
     "user_tz": -120
    },
    "id": "BwILh6xXEEIO",
    "outputId": "f5f806aa-c05d-4680-cf54-227ca2186c70"
   },
   "outputs": [],
   "source": [
    "ages = {\n",
    "    \"Alice\": 46, \n",
    "    \"Bob\": 86\n",
    "}\n",
    "print(\"Alice's age is\", ages[\"Alice\"])"
   ]
  },
  {
   "cell_type": "markdown",
   "metadata": {
    "id": "JDPbkcz_ERG1"
   },
   "source": [
    "There's also a convenient way to create dictionaries without having to quote the keys."
   ]
  },
  {
   "cell_type": "code",
   "execution_count": null,
   "metadata": {
    "colab": {
     "base_uri": "https://localhost:8080/"
    },
    "executionInfo": {
     "elapsed": 734,
     "status": "ok",
     "timestamp": 1618435406568,
     "user": {
      "displayName": "Visara Urovi",
      "photoUrl": "https://lh3.googleusercontent.com/a-/AOh14GjIw9v4kP-qtBg4fO0SKj3ilYQbBKNgj_Dw1NLeFg=s64",
      "userId": "10715840550088536341"
     },
     "user_tz": -120
    },
    "id": "V6Mmt9BtER-X",
    "outputId": "a1e709d5-3b29-456d-8f51-e1f3f1776371"
   },
   "outputs": [],
   "source": [
    "dict(Alice=46, Bob=86)"
   ]
  },
  {
   "cell_type": "markdown",
   "metadata": {
    "id": "YXH3ZWTvEYnI"
   },
   "source": [
    "The len() function also works on tuples and dictionaries:"
   ]
  },
  {
   "cell_type": "code",
   "execution_count": null,
   "metadata": {
    "colab": {
     "base_uri": "https://localhost:8080/"
    },
    "executionInfo": {
     "elapsed": 500,
     "status": "ok",
     "timestamp": 1618435414696,
     "user": {
      "displayName": "Visara Urovi",
      "photoUrl": "https://lh3.googleusercontent.com/a-/AOh14GjIw9v4kP-qtBg4fO0SKj3ilYQbBKNgj_Dw1NLeFg=s64",
      "userId": "10715840550088536341"
     },
     "user_tz": -120
    },
    "id": "CQmI4KeMEZ3u",
    "outputId": "693ce4c3-3cdf-4e03-f452-8f0c58541663"
   },
   "outputs": [],
   "source": [
    "len(t)"
   ]
  },
  {
   "cell_type": "code",
   "execution_count": null,
   "metadata": {
    "colab": {
     "base_uri": "https://localhost:8080/"
    },
    "executionInfo": {
     "elapsed": 526,
     "status": "ok",
     "timestamp": 1618435419087,
     "user": {
      "displayName": "Visara Urovi",
      "photoUrl": "https://lh3.googleusercontent.com/a-/AOh14GjIw9v4kP-qtBg4fO0SKj3ilYQbBKNgj_Dw1NLeFg=s64",
      "userId": "10715840550088536341"
     },
     "user_tz": -120
    },
    "id": "UEOP6Vr7EccN",
    "outputId": "43a9d98c-78dc-4bab-b1b8-31765a155d04"
   },
   "outputs": [],
   "source": [
    "len(ages)"
   ]
  },
  {
   "cell_type": "code",
   "execution_count": null,
   "metadata": {},
   "outputs": [],
   "source": [
    "# TODO: create a dictionary containing your name, age, year of birth, and your desired grade\n"
   ]
  },
  {
   "cell_type": "markdown",
   "metadata": {
    "id": "P0hMzrjrGoxy"
   },
   "source": [
    "## Slicing\n",
    "\n",
    "Lists and strings have something in common that you might not suspect: they can all be treated as sequences. You can use the slicing operation on any sequence. We already know that we can use indexing to get the first element of a list:"
   ]
  },
  {
   "cell_type": "code",
   "execution_count": null,
   "metadata": {
    "colab": {
     "base_uri": "https://localhost:8080/",
     "height": 37
    },
    "executionInfo": {
     "elapsed": 220,
     "status": "ok",
     "timestamp": 1626851841985,
     "user": {
      "displayName": "Sil Aarts",
      "photoUrl": "",
      "userId": "15954943278796641985"
     },
     "user_tz": -120
    },
    "id": "TLhChwZYGxzl",
    "outputId": "7526fc7e-ff6a-42f1-f6e5-6a95c64e8810"
   },
   "outputs": [],
   "source": [
    "days_of_the_week[0]"
   ]
  },
  {
   "cell_type": "markdown",
   "metadata": {
    "id": "BZNjGM4EekEp"
   },
   "source": [
    "If we want the list containing the first two elements of a list, we can do this by slicing the list:"
   ]
  },
  {
   "cell_type": "code",
   "execution_count": null,
   "metadata": {
    "colab": {
     "base_uri": "https://localhost:8080/"
    },
    "executionInfo": {
     "elapsed": 537,
     "status": "ok",
     "timestamp": 1618435759434,
     "user": {
      "displayName": "Visara Urovi",
      "photoUrl": "https://lh3.googleusercontent.com/a-/AOh14GjIw9v4kP-qtBg4fO0SKj3ilYQbBKNgj_Dw1NLeFg=s64",
      "userId": "10715840550088536341"
     },
     "user_tz": -120
    },
    "id": "D8L_guhfek3T",
    "outputId": "b779a9c9-8112-44d9-849d-c0fd6b96db77"
   },
   "outputs": [],
   "source": [
    "days_of_the_week[0:2]"
   ]
  },
  {
   "cell_type": "markdown",
   "metadata": {
    "id": "yua-mptSfWR6"
   },
   "source": [
    "or simply:"
   ]
  },
  {
   "cell_type": "code",
   "execution_count": null,
   "metadata": {
    "colab": {
     "base_uri": "https://localhost:8080/"
    },
    "executionInfo": {
     "elapsed": 569,
     "status": "ok",
     "timestamp": 1618435762251,
     "user": {
      "displayName": "Visara Urovi",
      "photoUrl": "https://lh3.googleusercontent.com/a-/AOh14GjIw9v4kP-qtBg4fO0SKj3ilYQbBKNgj_Dw1NLeFg=s64",
      "userId": "10715840550088536341"
     },
     "user_tz": -120
    },
    "id": "_QSnZ1fufW9C",
    "outputId": "f5ab8aac-756c-444d-b4a1-cf71313044a9"
   },
   "outputs": [],
   "source": [
    "days_of_the_week[:2]"
   ]
  },
  {
   "cell_type": "markdown",
   "metadata": {
    "id": "_LxM8QQ6fZGN"
   },
   "source": [
    "Note that Python does not include the last specified index. \n",
    "\n",
    "If we want the last items of the list, we can do this with negative slicing. This is somewhat logically consistent with negative indices accessing the last elements of the list:"
   ]
  },
  {
   "cell_type": "code",
   "execution_count": null,
   "metadata": {
    "colab": {
     "base_uri": "https://localhost:8080/"
    },
    "executionInfo": {
     "elapsed": 1077,
     "status": "ok",
     "timestamp": 1618435775685,
     "user": {
      "displayName": "Visara Urovi",
      "photoUrl": "https://lh3.googleusercontent.com/a-/AOh14GjIw9v4kP-qtBg4fO0SKj3ilYQbBKNgj_Dw1NLeFg=s64",
      "userId": "10715840550088536341"
     },
     "user_tz": -120
    },
    "id": "3VJ2tm1Lfe9s",
    "outputId": "0f38fd43-e152-4a8a-e545-db12a8620510"
   },
   "outputs": [],
   "source": [
    "days_of_the_week[-2:]"
   ]
  },
  {
   "cell_type": "code",
   "execution_count": null,
   "metadata": {},
   "outputs": [],
   "source": [
    "# TODO: make a new list called `workdays` by slicing days_of_the_week\n"
   ]
  },
  {
   "cell_type": "markdown",
   "metadata": {
    "id": "1edrDUnIf59k"
   },
   "source": [
    "Since strings are sequences, you can also slice them:"
   ]
  },
  {
   "cell_type": "code",
   "execution_count": null,
   "metadata": {
    "colab": {
     "base_uri": "https://localhost:8080/"
    },
    "executionInfo": {
     "elapsed": 196,
     "status": "ok",
     "timestamp": 1626856364718,
     "user": {
      "displayName": "Sil Aarts",
      "photoUrl": "",
      "userId": "15954943278796641985"
     },
     "user_tz": -120
    },
    "id": "EMu95-t2f6q6",
    "outputId": "2f72f6a9-0b91-4be2-cf73-a7de7e06734a"
   },
   "outputs": [],
   "source": [
    "day = \"Wednesday\"\n",
    "abbreviation = day[:3]\n",
    "print(abbreviation)"
   ]
  },
  {
   "cell_type": "markdown",
   "metadata": {
    "id": "lbKqprZ0gDT6"
   },
   "source": [
    "If we really want to get fancy, we can pass a third element into the slice, which specifies a step length:"
   ]
  },
  {
   "cell_type": "code",
   "execution_count": null,
   "metadata": {},
   "outputs": [],
   "source": [
    "numbers = [0, 1, 2, 3, 4, 5, 6, 7, 8, 9, 10]\n",
    "odd_numbers = numbers[1::2]\n",
    "odd_numbers"
   ]
  },
  {
   "cell_type": "markdown",
   "metadata": {
    "id": "wECjF3L2gTG7"
   },
   "source": [
    "Note that in this example we were even able to omit the second argument, so that the slice started at 1, went to the end of the list, and took every second element, to generate a list of odd numbers."
   ]
  },
  {
   "cell_type": "markdown",
   "metadata": {},
   "source": [
    "## Booleans and truth testing\n",
    "\n",
    "We have now learned about data types. We have integers, floating point numbers, and strings. We have also learned about lists, a container that can hold any data type, tuples and dictionaries. We have learned to print things out, and slice through elements. We will now learn about boolean variables that can be either True or False, which is a very usefull concept in programming.\n",
    "\n",
    "You can compare any data types in Python:"
   ]
  },
  {
   "cell_type": "code",
   "execution_count": null,
   "metadata": {
    "id": "p-SneVJhjQJ5"
   },
   "outputs": [],
   "source": [
    "1 == 2"
   ]
  },
  {
   "cell_type": "code",
   "execution_count": null,
   "metadata": {
    "id": "mpPGFQIsjS2p"
   },
   "outputs": [],
   "source": [
    "50 == 2*25"
   ]
  },
  {
   "cell_type": "code",
   "execution_count": null,
   "metadata": {
    "id": "6wHNvwB7jVm1"
   },
   "outputs": [],
   "source": [
    "3 < 3.14159"
   ]
  },
  {
   "cell_type": "code",
   "execution_count": null,
   "metadata": {
    "id": "qSqC51lHjYnu"
   },
   "outputs": [],
   "source": [
    "1 == 1.0"
   ]
  },
  {
   "cell_type": "code",
   "execution_count": null,
   "metadata": {
    "id": "dTixkXI5jhEn"
   },
   "outputs": [],
   "source": [
    "1 != 0"
   ]
  },
  {
   "cell_type": "code",
   "execution_count": null,
   "metadata": {
    "id": "W2kldq_Jjnwt"
   },
   "outputs": [],
   "source": [
    "2 <= 1"
   ]
  },
  {
   "cell_type": "code",
   "execution_count": null,
   "metadata": {
    "id": "SXaa-Wlhjqcp"
   },
   "outputs": [],
   "source": [
    "1 >= 1"
   ]
  },
  {
   "cell_type": "markdown",
   "metadata": {
    "id": "S03Tv0v6lQ42"
   },
   "source": [
    "We see a few other boolean operators here, all of which which should be self-explanatory. Less than, equality, non-equality, and so on.\n",
    "\n",
    "Particularly interesting is the 1 == 1.0 test, which is true, eventhough the two objects have different data types (integer and floating point number), they have the same value. There is another boolean operator `is`, that tests whether two objects are the same object:"
   ]
  },
  {
   "cell_type": "code",
   "execution_count": null,
   "metadata": {
    "id": "1RQEgr8alRzH"
   },
   "outputs": [],
   "source": [
    "1 is 1.0"
   ]
  },
  {
   "cell_type": "markdown",
   "metadata": {
    "id": "whdpjFSJjClW"
   },
   "source": [
    "We can do boolean tests on lists as well:"
   ]
  },
  {
   "cell_type": "code",
   "execution_count": null,
   "metadata": {
    "id": "nqf-agnzlEcZ"
   },
   "outputs": [],
   "source": [
    "[1, 2, 3] == [1, 2, 4]"
   ]
  },
  {
   "cell_type": "code",
   "execution_count": null,
   "metadata": {
    "id": "QyPILclElggL"
   },
   "outputs": [],
   "source": [
    "[1, 2, 3] < [1, 2, 4]"
   ]
  },
  {
   "cell_type": "markdown",
   "metadata": {
    "id": "KTkQN6eTlkg6"
   },
   "source": [
    "Finally, note that you can also perform multiple comparisons together, which can result in very intuitive tests:"
   ]
  },
  {
   "cell_type": "code",
   "execution_count": null,
   "metadata": {
    "id": "quILjBWTlpZB"
   },
   "outputs": [],
   "source": [
    "hours = 5\n",
    "0 < hours < 24"
   ]
  },
  {
   "cell_type": "code",
   "execution_count": null,
   "metadata": {},
   "outputs": [],
   "source": [
    "# TODO: create a comparison with the `hours` variable that leads to a False result\n"
   ]
  },
  {
   "cell_type": "code",
   "execution_count": null,
   "metadata": {},
   "outputs": [],
   "source": []
  }
 ],
 "metadata": {
  "colab": {
   "collapsed_sections": [
    "buN1WsIrcQFV",
    "MRpRO24bYIES",
    "lduy5wqMbx8Z",
    "bj1gw8ktA8vJ",
    "LQFhg4w8DIIy",
    "UONRAlQ9h6uw",
    "W9Oc2Sax-9KN",
    "mBOrE9quh0wL",
    "YGj646CroUG_",
    "f9j3vLIruTCw",
    "NUJYqaquuiQ2",
    "8YsOwOFFux_O",
    "_JLJ0F5OvHKK",
    "LAdUtBbXwBd1",
    "Gpp5WnZD1Z3U",
    "k0bdGlfE1ohv",
    "XI3hjKJV2eMF",
    "UGbZMgCy2zs0"
   ],
   "name": "D1-Python_Data_Structures.ipynb",
   "provenance": []
  },
  "kernelspec": {
   "display_name": "anaconda3",
   "language": "python",
   "name": "anaconda3"
  },
  "language_info": {
   "codemirror_mode": {
    "name": "ipython",
    "version": 3
   },
   "file_extension": ".py",
   "mimetype": "text/x-python",
   "name": "python",
   "nbconvert_exporter": "python",
   "pygments_lexer": "ipython3",
   "version": "3.7.0"
  }
 },
 "nbformat": 4,
 "nbformat_minor": 1
}
