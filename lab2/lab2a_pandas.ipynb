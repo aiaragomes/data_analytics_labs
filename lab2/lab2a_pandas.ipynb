{
 "cells": [
  {
   "cell_type": "markdown",
   "metadata": {
    "id": "fzRLWDn7TN3o"
   },
   "source": [
    "# Data manipulation with Pandas\n",
    "\n",
    "Pandas is a Python library that provides extensive means for data analysis. Data scientists often work with data stored in table formats like .csv, .tsv, or .xlsx. Pandas makes it very convenient to load, process, and analyze such tabular data using SQL-like queries. In conjunction with Matplotlib and Seaborn, Pandas provides a wide range of opportunities for visual analysis of tabular data.\n",
    "\n",
    "The main data structures in Pandas are implemented with the **Series** and **DataFrame** classes. The former is a one-dimensional indexed array of some fixed data type. The latter is a two-dimensional data structure - a table - where each column contains data of the same type. You can see it as a dictionary of Series instances. DataFrames are great for representing real data: rows correspond to records and columns correspond to variables of these records."
   ]
  },
  {
   "cell_type": "code",
   "execution_count": null,
   "metadata": {
    "id": "z0X5MQG1TkHr"
   },
   "outputs": [],
   "source": [
    "import pandas as pd"
   ]
  },
  {
   "cell_type": "markdown",
   "metadata": {
    "id": "4NrHK58kxjxl"
   },
   "source": [
    "## Load and inspect a dataframe\n",
    "\n",
    "We’ll demonstrate the main methods in action by analyzing a sample dataset. Let’s read the data (using read_csv).\n",
    "\n",
    "Meaning of columns:\n",
    "\n",
    "- CRIM: per capita crime rate by town\n",
    "- ZN: proportion of residential land zoned for lots over 25,000 sq.ft.\n",
    "- INDUS: proportion of non-retail business acres per town.\n",
    "- CHAS: Charles River dummy variable (1 if tract bounds river; 0 otherwise)\n",
    "- NOX: nitric oxides concentration (parts per 10 million)\n",
    "- RM: average number of rooms per dwelling\n",
    "- AGE: proportion of owner-occupied units built prior to 1940\n",
    "- DIS: weighted distances to five Boston employment centres\n",
    "- RAD: index of accessibility to radial highways\n",
    "- TAX: full-value property-tax rate per \\$10,000\n",
    "- PTRATIO: pupil-teacher ratio by town\n",
    "- LSTAT: \\% lower status of the population\n",
    "- MEDV: Median value of owner-occupied homes in \\$1000's"
   ]
  },
  {
   "cell_type": "code",
   "execution_count": null,
   "metadata": {
    "id": "jJ7mWwCYT0L5"
   },
   "outputs": [],
   "source": [
    "df = pd.read_csv('BostonHousing.csv')"
   ]
  },
  {
   "cell_type": "code",
   "execution_count": null,
   "metadata": {},
   "outputs": [],
   "source": [
    "df.head()"
   ]
  },
  {
   "cell_type": "markdown",
   "metadata": {
    "id": "6UueNq05UGmu"
   },
   "source": [
    "Shape of the data in (rows, columns):"
   ]
  },
  {
   "cell_type": "code",
   "execution_count": null,
   "metadata": {
    "colab": {
     "base_uri": "https://localhost:8080/"
    },
    "id": "5OtTI61Fkvtq",
    "outputId": "b8d23cd1-1402-455b-e9dd-1c74f16d60c4"
   },
   "outputs": [],
   "source": [
    "df.shape"
   ]
  },
  {
   "cell_type": "markdown",
   "metadata": {
    "id": "xjAf2EZLnDrH"
   },
   "source": [
    "We can take a look at the first 5 rows using the head method:"
   ]
  },
  {
   "cell_type": "code",
   "execution_count": null,
   "metadata": {
    "colab": {
     "base_uri": "https://localhost:8080/",
     "height": 206
    },
    "id": "LvSwevEgUHdI",
    "outputId": "d8d6d6e2-4806-4384-871e-659ade765210"
   },
   "outputs": [],
   "source": [
    "df.head()"
   ]
  },
  {
   "cell_type": "markdown",
   "metadata": {
    "id": "aFlsnFV6gClB"
   },
   "source": [
    "You can also have a look at the last rows using the tail method:"
   ]
  },
  {
   "cell_type": "code",
   "execution_count": null,
   "metadata": {
    "colab": {
     "base_uri": "https://localhost:8080/",
     "height": 206
    },
    "id": "P1HO3x5KyXM8",
    "outputId": "cd90db04-73f7-4455-cedd-6908954b8473"
   },
   "outputs": [],
   "source": [
    "df.tail()"
   ]
  },
  {
   "cell_type": "markdown",
   "metadata": {},
   "source": [
    "Some descriptive statistics:"
   ]
  },
  {
   "cell_type": "code",
   "execution_count": null,
   "metadata": {
    "colab": {
     "base_uri": "https://localhost:8080/",
     "height": 300
    },
    "id": "KBBv3MdOUSQP",
    "outputId": "e1c77a14-bffa-4128-d971-6a95d5523ed3"
   },
   "outputs": [],
   "source": [
    "df.describe()"
   ]
  },
  {
   "cell_type": "markdown",
   "metadata": {},
   "source": [
    "Column names and info:"
   ]
  },
  {
   "cell_type": "code",
   "execution_count": null,
   "metadata": {
    "colab": {
     "base_uri": "https://localhost:8080/"
    },
    "id": "HeFd8V2jUUJH",
    "outputId": "c5802397-14a0-4d11-a7f3-22f99c16c0cc"
   },
   "outputs": [],
   "source": [
    "df.columns"
   ]
  },
  {
   "cell_type": "code",
   "execution_count": null,
   "metadata": {
    "colab": {
     "base_uri": "https://localhost:8080/"
    },
    "id": "O7YqyNALUXpt",
    "outputId": "dce7046c-0091-48de-f7a5-a645d11abdd3"
   },
   "outputs": [],
   "source": [
    "df.info()"
   ]
  },
  {
   "cell_type": "markdown",
   "metadata": {
    "id": "a9xIpvW3gddz"
   },
   "source": [
    "We already covered integers (int64) and floating point numbers (float64). Now let's convert `CAT. MEDV` to a string:"
   ]
  },
  {
   "cell_type": "code",
   "execution_count": null,
   "metadata": {},
   "outputs": [],
   "source": [
    "df['CAT. MEDV'] = df['CAT. MEDV'].astype(str)"
   ]
  },
  {
   "cell_type": "markdown",
   "metadata": {},
   "source": [
    "Let's see what happened:"
   ]
  },
  {
   "cell_type": "code",
   "execution_count": null,
   "metadata": {},
   "outputs": [],
   "source": [
    "df.info()"
   ]
  },
  {
   "cell_type": "markdown",
   "metadata": {},
   "source": [
    "Now we see a different data type (object), which is basically a string.\n",
    "\n",
    "In order to see statistics of non-numerical features, one has to explicitly indicate data types of interest in the include parameter:"
   ]
  },
  {
   "cell_type": "code",
   "execution_count": null,
   "metadata": {
    "colab": {
     "base_uri": "https://localhost:8080/",
     "height": 175
    },
    "id": "nLnmG7toUgA_",
    "outputId": "cc82bb5c-5801-4039-8f8e-3cd5577006e3"
   },
   "outputs": [],
   "source": [
    "df.describe(include=['object'])"
   ]
  },
  {
   "cell_type": "markdown",
   "metadata": {
    "id": "8h5WXBDRUmKS"
   },
   "source": [
    "For categorical (type object) and boolean (type bool) features we can use the value_counts method. Let’s have a look at the distribution of CAT. MEDV:\n",
    "\n",
    "To calculate fractions: add **normalize=True** to value_counts."
   ]
  },
  {
   "cell_type": "code",
   "execution_count": null,
   "metadata": {
    "colab": {
     "base_uri": "https://localhost:8080/"
    },
    "id": "aRT1VDBUUv2w",
    "outputId": "fd1efdbd-93c0-4377-effe-f2280a6a178a"
   },
   "outputs": [],
   "source": [
    "df['CAT. MEDV'].value_counts()"
   ]
  },
  {
   "cell_type": "markdown",
   "metadata": {
    "id": "llploTXPg6uw"
   },
   "source": [
    "What do the counts above refer to?"
   ]
  },
  {
   "cell_type": "code",
   "execution_count": null,
   "metadata": {},
   "outputs": [],
   "source": [
    "# TODO: now print the fractions of the categorical variable CAT. MEDV\n"
   ]
  },
  {
   "cell_type": "markdown",
   "metadata": {
    "id": "xEwGqSb3nt4b"
   },
   "source": [
    "## Indexing and selecting data\n",
    "\n",
    "Often we want to see (or work with) a selection of the data. This can be achieved by [indexing](https://pandas.pydata.org/pandas-docs/stable/user_guide/indexing.html). \n",
    "\n",
    "There are different ways to select rows and/or columns in pandas. One way you will often encounter is selection by square brackets `[]` or attribute operator `.`\n",
    "\n",
    "This is a quick way to select some rows or columns. We'll show this with examples."
   ]
  },
  {
   "cell_type": "markdown",
   "metadata": {
    "id": "znv5LlDGyld0"
   },
   "source": [
    "### Indexing by `[]` examples"
   ]
  },
  {
   "cell_type": "code",
   "execution_count": null,
   "metadata": {
    "colab": {
     "base_uri": "https://localhost:8080/"
    },
    "id": "eneZsYKarDhU",
    "outputId": "f42c873c-8f5c-4eff-f0bf-490b5ce47208"
   },
   "outputs": [],
   "source": [
    "# Selecting first 3 rows\n",
    "df[:3]"
   ]
  },
  {
   "cell_type": "code",
   "execution_count": null,
   "metadata": {
    "colab": {
     "base_uri": "https://localhost:8080/"
    },
    "id": "1B0bxOsgrDF3",
    "outputId": "7adb0425-56c9-4481-d4bd-20c5d728fdef"
   },
   "outputs": [],
   "source": [
    "# Selecting CRIM column\n",
    "df['CRIM']"
   ]
  },
  {
   "cell_type": "markdown",
   "metadata": {
    "id": "fkxoP84jrr_O"
   },
   "source": [
    "You can also select a column by using the attribute operator `.`. A column can be seen as an attribute of the dataframe:"
   ]
  },
  {
   "cell_type": "code",
   "execution_count": null,
   "metadata": {
    "colab": {
     "base_uri": "https://localhost:8080/"
    },
    "id": "_MWiJ1hLrPyv",
    "outputId": "c225fb15-9f5d-46b6-a6af-6b0ba135c7fa"
   },
   "outputs": [],
   "source": [
    "df.CRIM"
   ]
  },
  {
   "cell_type": "code",
   "execution_count": null,
   "metadata": {
    "colab": {
     "base_uri": "https://localhost:8080/"
    },
    "id": "G8Xh21JSrPTe",
    "outputId": "2ebc4fab-06ee-4918-daf2-4d290e693b29"
   },
   "outputs": [],
   "source": [
    "# For selecting both rows and columns you'll need more sets of brackets\n",
    "df[:3]['CRIM']"
   ]
  },
  {
   "cell_type": "code",
   "execution_count": null,
   "metadata": {
    "colab": {
     "base_uri": "https://localhost:8080/"
    },
    "id": "nw8m5sI4sX3-",
    "outputId": "4cf59596-a8bf-4be1-ca51-a539b23ad238"
   },
   "outputs": [],
   "source": [
    "# Rows can also be selected with a conditional statement\n",
    "# e.g. all rows with ZN = 18\n",
    "df[df.ZN == 18]"
   ]
  },
  {
   "cell_type": "code",
   "execution_count": null,
   "metadata": {
    "colab": {
     "base_uri": "https://localhost:8080/"
    },
    "id": "uqJxnOGjx2ra",
    "outputId": "819ad40e-96c1-4d2a-ca80-8d63ca3d3483"
   },
   "outputs": [],
   "source": [
    "# What does that conditional statement actually look like?\n",
    "df.ZN == 18"
   ]
  },
  {
   "cell_type": "code",
   "execution_count": null,
   "metadata": {},
   "outputs": [],
   "source": [
    "# TODO: now select all rows with AGE smaller than 10 \n",
    "df[df.AGE < 10]"
   ]
  },
  {
   "cell_type": "markdown",
   "metadata": {
    "id": "N5SmNtcCpvn6"
   },
   "source": [
    "### Indexing by `.loc` examples\n",
    "\n",
    "The `.loc` method, so called label-indexing, works by defining a row_indexer and a column indexer. You can select both rows and columns with a single set of square brackets: `df.loc[row_indexer,column_indexer]`"
   ]
  },
  {
   "cell_type": "code",
   "execution_count": null,
   "metadata": {
    "colab": {
     "base_uri": "https://localhost:8080/"
    },
    "id": "QYPCBIbAoNs-",
    "outputId": "f59e19fe-4699-401d-f11a-5ffd3c2d8e8b"
   },
   "outputs": [],
   "source": [
    "# All rows (that's the colon) and 'ZN' column, separated by a comma\n",
    "df.loc[:, 'ZN'] "
   ]
  },
  {
   "cell_type": "code",
   "execution_count": null,
   "metadata": {
    "colab": {
     "base_uri": "https://localhost:8080/"
    },
    "id": "Oqc35FM6otWj",
    "outputId": "40f11333-22a9-4ddf-c638-e0d4f3f61598"
   },
   "outputs": [],
   "source": [
    "# All rows and multiple columns (columns should be in a list)\n",
    "df.loc[:, ['ZN', 'AGE', 'CAT. MEDV']]"
   ]
  },
  {
   "cell_type": "code",
   "execution_count": null,
   "metadata": {
    "colab": {
     "base_uri": "https://localhost:8080/"
    },
    "id": "PbIJQ21_pHW0",
    "outputId": "15e3131f-ac36-444c-844d-6a72aeee5eb7"
   },
   "outputs": [],
   "source": [
    "# You can select rows by using their index label (the first bold column in data is the index)\n",
    "# Caveats:\n",
    "# 1. this is only useful if that index label is meaningful (here it isn't really). Works very nice with dates.\n",
    "# 2. please note the code below does not always return the 5th row (for that you can use .iloc)\n",
    "df.loc[5, ]"
   ]
  },
  {
   "cell_type": "code",
   "execution_count": null,
   "metadata": {
    "colab": {
     "base_uri": "https://localhost:8080/"
    },
    "id": "QGyA9oB2q5LH",
    "outputId": "c4bf9dc3-d64b-4008-e44d-b946937f4912"
   },
   "outputs": [],
   "source": [
    "# Also with .loc we can use conditional statements\n",
    "df.loc[df.ZN == 18, ]"
   ]
  },
  {
   "cell_type": "code",
   "execution_count": null,
   "metadata": {
    "colab": {
     "base_uri": "https://localhost:8080/"
    },
    "id": "VNuASPmcrIve",
    "outputId": "4960573f-5a42-414d-efc9-c592e0961f30"
   },
   "outputs": [],
   "source": [
    "# We could use those to get all the houses older than 50 years\n",
    "df.loc[df.AGE > 50, ['ZN', 'AGE', 'CAT. MEDV']]"
   ]
  },
  {
   "cell_type": "code",
   "execution_count": null,
   "metadata": {
    "colab": {
     "base_uri": "https://localhost:8080/"
    },
    "id": "c0Q722v-zls8",
    "outputId": "31057840-631a-44c8-8f04-14fa7c8e7e45"
   },
   "outputs": [],
   "source": [
    "# You can have more than 1 conditional statement (don't forget the additional parentheses)\n",
    "# for example: all houses older than 50 years with average number of rooms greater than 8\n",
    "df.loc[(df.AGE > 50) & (df.RM > 8), ['RM', 'AGE', 'CAT. MEDV']]"
   ]
  },
  {
   "cell_type": "markdown",
   "metadata": {
    "id": "dXRnAy0dz_OO"
   },
   "source": [
    "### Indexing by .iloc\n",
    "\n",
    "The `.iloc` method is primarily integer based and can select the i-th row and/or column, or a slice."
   ]
  },
  {
   "cell_type": "code",
   "execution_count": null,
   "metadata": {
    "colab": {
     "base_uri": "https://localhost:8080/"
    },
    "id": "OYfvGXbU0B42",
    "outputId": "c4d63f5a-fa3b-493f-b8a1-8be08ad97c63"
   },
   "outputs": [],
   "source": [
    "# So now you can select both rows and columns by their integer position\n",
    "# for example, first row and first column\n",
    "df.iloc[0, 0]"
   ]
  },
  {
   "cell_type": "code",
   "execution_count": null,
   "metadata": {
    "colab": {
     "base_uri": "https://localhost:8080/"
    },
    "id": "eJPsC8Hq0OEw",
    "outputId": "bc8d5394-ea47-4e5e-c08f-9487ca2f2ce6"
   },
   "outputs": [],
   "source": [
    "# Or a range of rows and second column\n",
    "df.iloc[:5, 1]"
   ]
  },
  {
   "cell_type": "markdown",
   "metadata": {
    "id": "MYXt6sPglidW"
   },
   "source": [
    "## Simple calculations\n",
    "\n",
    "Knowing how to index also allows you to perform calculations on parts of the data."
   ]
  },
  {
   "cell_type": "code",
   "execution_count": null,
   "metadata": {
    "colab": {
     "base_uri": "https://localhost:8080/"
    },
    "id": "B9VYqIYIl5G2",
    "outputId": "6e21fc69-d4e9-4789-c5c6-bc547f61ce7b"
   },
   "outputs": [],
   "source": [
    "df.head()"
   ]
  },
  {
   "cell_type": "code",
   "execution_count": null,
   "metadata": {
    "colab": {
     "base_uri": "https://localhost:8080/"
    },
    "id": "eoTcMKP0lj4c",
    "outputId": "eef7d72e-747e-44ef-b9cf-39af38d1e720"
   },
   "outputs": [],
   "source": [
    "# What is the average age of all the houses?\n",
    "df.AGE.mean()"
   ]
  },
  {
   "cell_type": "code",
   "execution_count": null,
   "metadata": {
    "colab": {
     "base_uri": "https://localhost:8080/"
    },
    "id": "sTqFvKfVl-ON",
    "outputId": "e39b6782-5cb7-441e-e464-1cc88136591a"
   },
   "outputs": [],
   "source": [
    "# What is the maximum tax?\n",
    "df.TAX.max()"
   ]
  },
  {
   "cell_type": "code",
   "execution_count": null,
   "metadata": {},
   "outputs": [],
   "source": [
    "# TODO: what is the average tax?\n"
   ]
  },
  {
   "cell_type": "code",
   "execution_count": null,
   "metadata": {
    "colab": {
     "base_uri": "https://localhost:8080/"
    },
    "id": "y0kbCA1jnuPT",
    "outputId": "421746c8-b296-43ac-d420-5a3e9af9efce"
   },
   "outputs": [],
   "source": [
    "# Even on a subset of the dataframe you can calculate. The default is column-wise\n",
    "df[['AGE', 'TAX']].mean()"
   ]
  },
  {
   "cell_type": "markdown",
   "metadata": {
    "id": "iRkmkPvymZqK"
   },
   "source": [
    "Above calculations were all column-wise. They took all values of a column and calculated a statistic.\n",
    "\n",
    "You can also perform calculations row-wise, but then you don't get 1 statistic as answer, but a Series. This Series you can then use to add as a column or to calculate something on the fly."
   ]
  },
  {
   "cell_type": "code",
   "execution_count": null,
   "metadata": {
    "colab": {
     "base_uri": "https://localhost:8080/"
    },
    "id": "dFQw4GfSnEx6",
    "outputId": "ffcbf1f6-6023-4aad-85a9-500184bca7b2"
   },
   "outputs": [],
   "source": [
    "# Distance in meters to employment centres\n",
    "df.DIS*1000"
   ]
  },
  {
   "cell_type": "code",
   "execution_count": null,
   "metadata": {
    "colab": {
     "base_uri": "https://localhost:8080/"
    },
    "id": "JWlWttVJnYxp",
    "outputId": "016577a8-4835-4b09-ba6d-2db06b30989e"
   },
   "outputs": [],
   "source": [
    "# Calculate on the fly\n",
    "# average distance to employment centres in meters\n",
    "(df.DIS*1000).mean()"
   ]
  },
  {
   "cell_type": "code",
   "execution_count": null,
   "metadata": {},
   "outputs": [],
   "source": [
    "df.head()"
   ]
  },
  {
   "cell_type": "code",
   "execution_count": null,
   "metadata": {
    "colab": {
     "base_uri": "https://localhost:8080/"
    },
    "id": "M4xqa7m0oekH",
    "outputId": "13a5f9f2-4a15-42bf-be12-a5e877c1e604"
   },
   "outputs": [],
   "source": [
    "# We saw this one before, with a column-wise default\n",
    "# you can get a row-wise calculation by adding axis=1\n",
    "df[['TAX', 'MEDV']].sum(axis=1)"
   ]
  },
  {
   "cell_type": "markdown",
   "metadata": {
    "id": "kFf-2R9wU1a7"
   },
   "source": [
    "## Sorting\n",
    "\n",
    "A DataFrame can be sorted by the value of one of the variables (i.e columns). For example, we can sort by values of a variable (use ascending=False to sort in descending order):"
   ]
  },
  {
   "cell_type": "code",
   "execution_count": null,
   "metadata": {
    "colab": {
     "base_uri": "https://localhost:8080/"
    },
    "id": "S58Sb1arU9Qx",
    "outputId": "feaf624c-6ca6-482d-f407-7c4b9d2538c3"
   },
   "outputs": [],
   "source": [
    "df.sort_values(by='AGE', ascending=False)"
   ]
  },
  {
   "cell_type": "markdown",
   "metadata": {
    "id": "mA7MFM36h5eY"
   },
   "source": [
    "You can sort by multiple columns by passing them to the function as a list:"
   ]
  },
  {
   "cell_type": "code",
   "execution_count": null,
   "metadata": {
    "colab": {
     "base_uri": "https://localhost:8080/"
    },
    "id": "2u7jnFMChNas",
    "outputId": "43e3318d-b951-44c7-db66-e18273ee2a2c"
   },
   "outputs": [],
   "source": [
    "df.sort_values(by=['AGE', 'RM'], ascending=False)"
   ]
  },
  {
   "cell_type": "markdown",
   "metadata": {
    "id": "BgbNGAP3jZia"
   },
   "source": [
    "Note that most methods do not change the original dataframe, but return a copy. If we look at `df` now we will see it is **not** sorted:"
   ]
  },
  {
   "cell_type": "code",
   "execution_count": null,
   "metadata": {
    "colab": {
     "base_uri": "https://localhost:8080/"
    },
    "id": "QOyUtguWjkjT",
    "outputId": "65527017-298e-4330-a4aa-5f1b927c6e16"
   },
   "outputs": [],
   "source": [
    "df.head()"
   ]
  },
  {
   "cell_type": "markdown",
   "metadata": {
    "id": "nz94Praslsq4"
   },
   "source": [
    "If we want to keep `df` sorted, we have to overwrite it or use the inplace=True argument:"
   ]
  },
  {
   "cell_type": "code",
   "execution_count": null,
   "metadata": {
    "colab": {
     "base_uri": "https://localhost:8080/"
    },
    "id": "4txuwjtplsTu",
    "outputId": "30256f35-fd42-4110-bca7-0b2b5fc21f4c"
   },
   "outputs": [],
   "source": [
    "df = df.sort_values(by=['AGE', 'RM'], ascending=False)\n",
    "\n",
    "# or with inplace=True\n",
    "df.sort_values(by=['AGE', 'RM'], ascending=False, inplace=True)\n",
    "# and then df itself stays sorted\n",
    "df.head()"
   ]
  },
  {
   "cell_type": "markdown",
   "metadata": {
    "id": "eP3Ob43TVDfq"
   },
   "source": [
    "## Missing values\n",
    "\n",
    "An easy way to see the number of missing values per column is the isnull() method:"
   ]
  },
  {
   "cell_type": "code",
   "execution_count": null,
   "metadata": {
    "colab": {
     "base_uri": "https://localhost:8080/"
    },
    "id": "-FfT_lRyyA7G",
    "outputId": "9077e807-8c1e-4454-d1be-4b71f8efdd69"
   },
   "outputs": [],
   "source": [
    "df.isnull().sum()"
   ]
  },
  {
   "cell_type": "markdown",
   "metadata": {
    "id": "9b-xZfON07vI"
   },
   "source": [
    "Missing values are displayed as NaN, which stands for 'Not a Number'."
   ]
  },
  {
   "cell_type": "code",
   "execution_count": null,
   "metadata": {
    "colab": {
     "base_uri": "https://localhost:8080/",
     "height": 424
    },
    "id": "euew18Nk0z2z",
    "outputId": "effc33b5-65b3-4e8c-aaa9-f4e9a44f9de5"
   },
   "outputs": [],
   "source": [
    "df.loc[df.NOX.isnull(), ]"
   ]
  },
  {
   "cell_type": "markdown",
   "metadata": {
    "id": "GAkN71V4VXij"
   },
   "source": [
    "### Replace missing values\n",
    "\n",
    "Pandas has a `fillna` method to replace missing values by a certain value.\n",
    "\n",
    "We can replace the missing NOX emissions by the average:"
   ]
  },
  {
   "cell_type": "code",
   "execution_count": null,
   "metadata": {
    "id": "0ebxGZETWBi2"
   },
   "outputs": [],
   "source": [
    "df.NOX.fillna(value=df.NOX.mean(), inplace=True) # notice the attribute operator to select the column"
   ]
  },
  {
   "cell_type": "code",
   "execution_count": null,
   "metadata": {
    "colab": {
     "base_uri": "https://localhost:8080/"
    },
    "id": "F563C5T7z2x8",
    "outputId": "216da0d5-7973-4ac2-ef9b-996ba2b9cdc0"
   },
   "outputs": [],
   "source": [
    "# Now there are no more missing data for NOX\n",
    "df.isnull().sum()"
   ]
  },
  {
   "cell_type": "markdown",
   "metadata": {
    "id": "BjW08_dFbndp"
   },
   "source": [
    "### Remove rows with missing values\n",
    "\n",
    "Sometimes, the null values are best if removed. In those cases you want to remove all the NA/NAN values.\n",
    "\n",
    "In our case we'll remove the rows where CHAS is missing."
   ]
  },
  {
   "cell_type": "code",
   "execution_count": null,
   "metadata": {
    "colab": {
     "base_uri": "https://localhost:8080/"
    },
    "id": "3St2ynvA_MUM",
    "outputId": "581954c1-3f18-4bf3-9fe0-7788a0bc5140"
   },
   "outputs": [],
   "source": [
    "print(\"Rows before: \", df.shape[0])\n",
    "df.dropna(inplace=True)\n",
    "print(\"Rows after dropping rows with missing values: \", df.shape[0])"
   ]
  },
  {
   "cell_type": "markdown",
   "metadata": {
    "id": "E9ABU6T36WBy"
   },
   "source": [
    "## Data update/wrangling\n",
    "\n",
    "We can wrangle our data in many ways. Here we will just show a very small selection of what you can do.\n",
    "\n",
    "### Creating new columns\n",
    "\n",
    "We can create new columns by using the square brackets notation. Some examples:"
   ]
  },
  {
   "cell_type": "code",
   "execution_count": null,
   "metadata": {
    "colab": {
     "base_uri": "https://localhost:8080/",
     "height": 206
    },
    "id": "L1gyoj5z55MH",
    "outputId": "e53520a1-3075-4ee5-9bed-2fb860a40162"
   },
   "outputs": [],
   "source": [
    "# A new column where every row has a fixed value\n",
    "df['DATE'] = '03-11-2021'\n",
    "df['CITY'] = 'USA_Boston'\n",
    "df.head()"
   ]
  },
  {
   "cell_type": "code",
   "execution_count": null,
   "metadata": {
    "colab": {
     "base_uri": "https://localhost:8080/",
     "height": 206
    },
    "id": "tKRBNbbm6Tyd",
    "outputId": "ec2391ff-f92a-4c75-99ea-fbef2547c2e2"
   },
   "outputs": [],
   "source": [
    "# A new column which is calculated from existing columns\n",
    "df['DIS_m'] = df.DIS*1000\n",
    "df.head()"
   ]
  },
  {
   "cell_type": "code",
   "execution_count": null,
   "metadata": {
    "colab": {
     "base_uri": "https://localhost:8080/",
     "height": 206
    },
    "id": "a1wiGBzX6o_5",
    "outputId": "4e81b8a4-15ab-4f4b-a43f-af4d90c44a07"
   },
   "outputs": [],
   "source": [
    "# A new column which is a substring of another column (note the .str notation again)\n",
    "df['COUNTRY'] = df.CITY.str[:3]\n",
    "df.head()"
   ]
  },
  {
   "cell_type": "code",
   "execution_count": null,
   "metadata": {},
   "outputs": [],
   "source": [
    "# TODO: can you think of an interesting column to calculate with the variables you have?\n"
   ]
  },
  {
   "cell_type": "markdown",
   "metadata": {
    "id": "fdXt7jG_UBsn"
   },
   "source": [
    "### Deleting columns"
   ]
  },
  {
   "cell_type": "code",
   "execution_count": null,
   "metadata": {
    "colab": {
     "base_uri": "https://localhost:8080/",
     "height": 206
    },
    "id": "Hu09PuyKUEHZ",
    "outputId": "39c76570-aaeb-4f0c-8187-ae61f6e9fa75"
   },
   "outputs": [],
   "source": [
    "df.drop('DIS_m', axis=1, inplace=True) # axis=1 indicates you want to drop a column\n",
    "df.head()"
   ]
  },
  {
   "cell_type": "code",
   "execution_count": null,
   "metadata": {
    "id": "33vS8J0MYJev"
   },
   "outputs": [],
   "source": [
    "# You can drop multiple columns at once by passing them as a list to the drop function\n",
    "df.drop(['CHAS', 'COUNTRY'], axis=1, inplace=True) # axis=1 indicates you want to drop a column"
   ]
  },
  {
   "cell_type": "markdown",
   "metadata": {
    "id": "rcSxVviL7uK7"
   },
   "source": [
    "### Replacing values\n",
    "\n",
    "Suppose we want to change the distance to meters:"
   ]
  },
  {
   "cell_type": "code",
   "execution_count": null,
   "metadata": {
    "id": "_79ruC6X7B55"
   },
   "outputs": [],
   "source": [
    "df.CITY.replace('USA_Boston', 'Boston', inplace=True)"
   ]
  },
  {
   "cell_type": "code",
   "execution_count": null,
   "metadata": {
    "colab": {
     "base_uri": "https://localhost:8080/",
     "height": 206
    },
    "id": "lGy4y2dJ4M0j",
    "outputId": "fb61ccf8-483e-4103-f650-8167d4304164"
   },
   "outputs": [],
   "source": [
    "# What happened?\n",
    "df.head()"
   ]
  },
  {
   "cell_type": "markdown",
   "metadata": {
    "id": "jMQcEQKw4Tq8"
   },
   "source": [
    "You can also replace a part of the text, such as replacing a dash (-) by a slash (/), but then it is necessary to add the `.str` method. This ensures that the replace operation is applied to every single row."
   ]
  },
  {
   "cell_type": "code",
   "execution_count": null,
   "metadata": {
    "colab": {
     "base_uri": "https://localhost:8080/",
     "height": 206
    },
    "id": "5uZV_Xjv4S1w",
    "outputId": "9b3c12bf-4e8c-459c-d658-ba1abbc663bb"
   },
   "outputs": [],
   "source": [
    "df.DATE = df.DATE.str.replace('-', '/')\n",
    "df.head()"
   ]
  },
  {
   "cell_type": "markdown",
   "metadata": {
    "id": "1AuyI4Ch9_lb"
   },
   "source": [
    "### Subsetting the data\n",
    "\n",
    "Suppose we need a subset of the data including only houses older than 50 years:"
   ]
  },
  {
   "cell_type": "code",
   "execution_count": null,
   "metadata": {
    "colab": {
     "base_uri": "https://localhost:8080/",
     "height": 206
    },
    "id": "iPn-XXNE-nPi",
    "outputId": "7c428fa9-8d7e-4243-ac65-90fa0db68ec4"
   },
   "outputs": [],
   "source": [
    "df_50 = df[df.AGE > 50]\n",
    "df_50.head()"
   ]
  },
  {
   "cell_type": "markdown",
   "metadata": {
    "id": "RV2kN7AHddu9"
   },
   "source": [
    "## Groupby (split-apply-combine)\n",
    "\n",
    "This is a method that summarizes the data of a more extensive table using an aggregating function. This summary might include sums, averages, or other statistics.\n",
    "\n",
    "We may want to see the average columns by ZN:"
   ]
  },
  {
   "cell_type": "code",
   "execution_count": null,
   "metadata": {
    "colab": {
     "base_uri": "https://localhost:8080/",
     "height": 237
    },
    "id": "53_pB3TY9PSt",
    "outputId": "828538db-7d8d-4394-b9af-961b056cc4d5"
   },
   "outputs": [],
   "source": [
    "df_ZN = df.groupby('ZN').mean()\n",
    "df_ZN.head()"
   ]
  },
  {
   "cell_type": "markdown",
   "metadata": {
    "id": "xlHpwCBo9g_q"
   },
   "source": [
    "Note that the index has changed to the column we grouped by.\n",
    "\n",
    "So what happened here exactly? Let's have a closer look at one ZN: 12.5"
   ]
  },
  {
   "cell_type": "code",
   "execution_count": null,
   "metadata": {
    "colab": {
     "base_uri": "https://localhost:8080/",
     "height": 206
    },
    "id": "d2u77Qec968l",
    "outputId": "a90ec59b-3122-47f8-bad9-49adf8d4a107"
   },
   "outputs": [],
   "source": [
    "df[df.ZN == 12.5]"
   ]
  },
  {
   "cell_type": "markdown",
   "metadata": {
    "id": "DIeosqW6-Lzz"
   },
   "source": [
    "The groupby we applied has taken the average of the numerical variables of those 10 rows.\n",
    "\n",
    "There's a lot more to groupby than we have time for in this tutorial. A [more in-depth overview can be found here](https://https://pandas.pydata.org/docs/user_guide/groupby.html), and looking at the [examples of the .agg](https://https://pandas.pydata.org/docs/reference/api/pandas.DataFrame.agg.html) method is useful in this context."
   ]
  },
  {
   "cell_type": "code",
   "execution_count": null,
   "metadata": {
    "colab": {
     "base_uri": "https://localhost:8080/",
     "height": 237
    },
    "id": "fc_HiSlyAauB",
    "outputId": "158c5be9-5ee3-46b6-838d-db1723f18931"
   },
   "outputs": [],
   "source": [
    "# Last example\n",
    "df.groupby('ZN').agg(MEDV_mean=('NOX', 'mean'),\n",
    "                     min_AGE=('AGE', 'min'),\n",
    "                     max_AGE=('AGE', 'max')).head()"
   ]
  },
  {
   "cell_type": "code",
   "execution_count": null,
   "metadata": {},
   "outputs": [],
   "source": [
    "# TODO: now how do you get the average of all the numerical columns per CAT.MEDV?\n"
   ]
  },
  {
   "cell_type": "markdown",
   "metadata": {
    "id": "wk7pkIKgsISW"
   },
   "source": [
    "## Transposing\n",
    "\n",
    "Occasionally transposing (switching rows and columns) can be helpful."
   ]
  },
  {
   "cell_type": "code",
   "execution_count": null,
   "metadata": {
    "colab": {
     "base_uri": "https://localhost:8080/",
     "height": 300
    },
    "id": "HNez4cTF_pnA",
    "outputId": "1d140433-2dc0-4572-a9d0-9962b7967a85"
   },
   "outputs": [],
   "source": [
    "# Remember describe()?\n",
    "df.describe()"
   ]
  },
  {
   "cell_type": "code",
   "execution_count": null,
   "metadata": {
    "colab": {
     "base_uri": "https://localhost:8080/",
     "height": 143
    },
    "id": "eModrYeRtq6u",
    "outputId": "09d1541d-2291-431f-8c92-e7084e931e2b"
   },
   "outputs": [],
   "source": [
    "# Perhaps you like to read it like this?\n",
    "df.describe().T"
   ]
  },
  {
   "cell_type": "markdown",
   "metadata": {
    "id": "6akLThKFYpMI"
   },
   "source": [
    "You hopefully now have all the tools to perform basic operations with pandas!"
   ]
  },
  {
   "cell_type": "code",
   "execution_count": null,
   "metadata": {},
   "outputs": [],
   "source": []
  }
 ],
 "metadata": {
  "colab": {
   "name": "DataManipulationWithPandas.ipynb",
   "provenance": []
  },
  "kernelspec": {
   "display_name": "labs",
   "language": "python",
   "name": "labs"
  },
  "language_info": {
   "codemirror_mode": {
    "name": "ipython",
    "version": 3
   },
   "file_extension": ".py",
   "mimetype": "text/x-python",
   "name": "python",
   "nbconvert_exporter": "python",
   "pygments_lexer": "ipython3",
   "version": "3.9.7"
  }
 },
 "nbformat": 4,
 "nbformat_minor": 1
}
